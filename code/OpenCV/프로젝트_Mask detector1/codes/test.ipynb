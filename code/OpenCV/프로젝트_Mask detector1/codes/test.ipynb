{
 "cells": [
  {
   "cell_type": "code",
   "execution_count": null,
   "metadata": {},
   "outputs": [],
   "source": [
    "# 카메라 캡쳐 활성화\n",
    "cap = cv2.VideoCapture(0)\n",
    "while cap.isOpened():\n",
    "    ret, img = cap.read()   # 프레임 읽기\n",
    "    if ret:\n",
    "        gray = cv2.cvtColor(img, cv2.COLOR_BGR2GRAY)\n",
    "        # 얼굴 검출\n",
    "        faces = face_cascade.detectMultiScale(gray, scaleFactor = 1.3, minNeighbors = 5, minSize = (80,80))\n",
    "        for (x,y,w,h) in faces:\n",
    "            cv2.rectangle(img, (x,y), (x+w, y+h), (0,255,0), 2)\n",
    "            roi = gray[y:y+h, x:x+w]\n",
    "            # 눈 검출\n",
    "            eyes = eye_cascade.detectMultiScale(roi)\n",
    "            for i, (ex, ey, ew, eh) in enumerate(eyes):\n",
    "                if i >= 2:\n",
    "                    break\n",
    "                cv2.rectangle(img[y:y+h, x:x+w], (ex, ey), (ex+ew, ey+eh), (255,0,0), 2)\n",
    "        cv2.imshow('face detect', img)\n",
    "    else:\n",
    "        break\n",
    "    if 0xFF & cv2.waitKey(5) == 27:\n",
    "        break\n",
    "cv2.destroyAllWindows()\n",
    "cv2.waitKey(1)"
   ]
  }
 ],
 "metadata": {
  "language_info": {
   "name": "python"
  },
  "orig_nbformat": 4
 },
 "nbformat": 4,
 "nbformat_minor": 2
}
