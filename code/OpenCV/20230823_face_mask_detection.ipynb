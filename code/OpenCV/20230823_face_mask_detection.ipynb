{
 "cells": [
  {
   "cell_type": "markdown",
   "metadata": {},
   "source": [
    "## Mask detection\n",
    "- CNN 학습하기\n",
    "    - 모델 구축, 학습, 최적화, 검증\n",
    "    - face mask detection 모델 적용 : images/video/live streaming (with python oprn CV)\n",
    "\n",
    "1. 데이터 수집과 준비\n",
    "    - 두개의 클라스: 1,376 images by Prajna Bhandary - with_mask : 690, without_mask : 686\n",
    "    - 데이터 보충 : 구글에서 한국인 images\n",
    "    - 학습용 데이터 80% 검증 20%\n",
    "    - 데이터 증강 : augmentation <br><br>\n",
    "\n",
    "2.  데이터 정제와 가공 (전처리)\n",
    "\n",
    "3.  알고리즘 선택과 모델 튜닝\n",
    "    - CNN 모델 학습 : Conv2D, MaxPooling2D, Flatten, Droupout, and Dense\n",
    "    - 활성화 함수 : Relu\n",
    "    - output : Softmax - 두개의 클라스 예측\n",
    "    - 베이지안 옵티마이제이션\n",
    "    - 얼굴 인식 알고리즘  : Haar feature-based cascade<br><br>\n",
    "\n",
    "4.  모델 검증과 적용 (예측)\n",
    "\n",
    "- 결과 : Face mask detectin & alert\n",
    "    - detect the face in images, video, livestream\n",
    "    - label mask detection with colours, text, and confidence level(%)\n",
    "\n",
    "*References*\n",
    "\n",
    "* Keras ImageDataGenerator and Data Augmentation : <br>\n",
    "https://www.pyimagesearch.com/2019/07/08/keras-imagedatagenerator-and-data-augmentation/\n",
    "\n",
    "* Read a video and access a webcam with OpenCV in Python : <br>\n",
    "http://datahacker.rs/001-how-to-read-a-video-and-access-a-webcam-with-opencv-in-python/\n",
    "\n",
    "* How to do Hyper-parameters search with Bayesian optimization for Keras model : <br>\n",
    "https://www.dlology.com/blog/how-to-do-hyperparameter-search-with-baysian-optimization-for-keras-model/\n"
   ]
  }
 ],
 "metadata": {
  "kernelspec": {
   "display_name": "base",
   "language": "python",
   "name": "python3"
  },
  "language_info": {
   "name": "python",
   "version": "3.11.3"
  },
  "orig_nbformat": 4
 },
 "nbformat": 4,
 "nbformat_minor": 2
}
