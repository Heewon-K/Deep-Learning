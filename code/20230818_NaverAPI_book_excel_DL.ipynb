{
 "cells": [
  {
   "cell_type": "markdown",
   "metadata": {},
   "source": [
    "## 네이버 검색 API 사용해보기"
   ]
  },
  {
   "cell_type": "code",
   "execution_count": 1,
   "metadata": {},
   "outputs": [],
   "source": [
    "# setting to get api key outside the Jupyter notebook \n",
    "from dotenv import load_dotenv\n",
    "import os\n",
    "load_dotenv('.env')\n",
    "\n",
    "# using env file to access the api key while not exposing it on the code\n",
    "client_id = os.getenv('client_id')  \n",
    "client_secret = os.getenv('client_secret')"
   ]
  },
  {
   "cell_type": "code",
   "execution_count": 2,
   "metadata": {},
   "outputs": [],
   "source": [
    "# urllib.request 모듈은 주어진 url을 이용해 웹에서 데이터를 얻어옴\n",
    "import urllib.request\n",
    "def create_url(api_node, search_text, start_num, disp_num):\n",
    "    base = \"https://openapi.naver.com/v1/search\"\n",
    "    node = \"/\" + api_node + \".json\"\n",
    "    param_query = \"?query=\" + urllib.parse.quote(search_text)\n",
    "    param_start = \"&start=\" + str(start_num)\n",
    "    param_disp = \"&display=\" + str(disp_num)\n",
    "\n",
    "    return base + node + param_query + param_start + param_disp"
   ]
  },
  {
   "cell_type": "code",
   "execution_count": 3,
   "metadata": {},
   "outputs": [
    {
     "data": {
      "text/plain": [
       "{'lastBuildDate': 'Fri, 18 Aug 2023 12:09:16 +0900',\n",
       " 'total': 274,\n",
       " 'start': 1,\n",
       " 'display': 3,\n",
       " 'items': [{'title': '컴퓨터 비전과 딥러닝',\n",
       "   'link': 'https://search.shopping.naver.com/book/catalog/36975852621',\n",
       "   'image': 'https://shopping-phinf.pstatic.net/main_3697585/36975852621.20230725120610.jpg',\n",
       "   'author': '오일석',\n",
       "   'discount': '35100',\n",
       "   'publisher': '한빛아카데미',\n",
       "   'pubdate': '20230105',\n",
       "   'isbn': '9791156645481',\n",
       "   'description': 'OpenCV와 텐서플로를 활용한 85개 파이썬 프로그램으로 배우는 컴퓨터 비전\\n\\n① 이론과 실습으로 균형 있게 배우는 컴퓨터 비전\\n고전 방법과 딥러닝 방법으로 컴퓨터 비전 이론을 배우고 85개 파이썬 프로그램 실습으로 구현 방법을 직접 확인할 수 있습니다.\\n\\n② 딥러닝 중심의 컴퓨터 비전 교재\\n딥러닝 중심으로 컴퓨터 비전을 소개하지만 영상 처리, 고전 컴퓨터 비전까지 모두 다루므로 컴퓨터 비전을 제대로 공부할 수 있습니다.\\n\\n③ [온라인 부록]으로 기초 지식 다지기\\n파이썬 기본, 선형대수와 확률 이론 기초를 온라인 부록으로 제공하여 컴퓨터 비전을 공부하는 데 필요한 기초 지식을 빠르게 습득할 수 있습니다.\\n\\n* 본 도서는 대학 강의용 교재로 개발되었으므로 연습문제 해답은 제공하지 않습니다.'},\n",
       "  {'title': '딥러닝',\n",
       "   'link': 'https://search.shopping.naver.com/book/catalog/32473661766',\n",
       "   'image': 'https://shopping-phinf.pstatic.net/main_3247366/32473661766.20230404161928.jpg',\n",
       "   'author': '박혜정^석경하^심주용^황창하',\n",
       "   'discount': '21850',\n",
       "   'publisher': '한빛아카데미',\n",
       "   'pubdate': '20180630',\n",
       "   'isbn': '9791156644095',\n",
       "   'description': '핵심 이론으로 익히고 R로 구현해보는 딥러닝\\n\\n데이터 과학자 또는 빅데이터 분석가가 기본적으로 알아야 할 딥러닝 관련 지식을 제공합니다. 기초적인 수학 지식이 있는 독자라면 누구든지 딥러닝에 꼭 필요한 핵심 이론을 익히고, 다루기 쉬운 R로 직접 구현해보면서 이론과 실습을 한번에 학습할 수 있습니다.\\n\\n※ 본 도서는 대학 강의용 교재로 개발되었으므로 연습문제 해답은 제공하지 않습니다.'},\n",
       "  {'title': '밑바닥부터 시작하는 딥러닝 (파이썬으로 익히는 딥러닝 이론과 구현)',\n",
       "   'link': 'https://search.shopping.naver.com/book/catalog/32486532054',\n",
       "   'image': 'https://shopping-phinf.pstatic.net/main_3248653/32486532054.20230404163646.jpg',\n",
       "   'author': '사이토 고키',\n",
       "   'discount': '20520',\n",
       "   'publisher': '한빛미디어',\n",
       "   'pubdate': '20170103',\n",
       "   'isbn': '9788968484636',\n",
       "   'description': '직접 구현하고 움직여보며 익히는 가장 쉬운 딥러닝 입문서!\\n\\n『밑바닥부터 시작하는 딥러닝』은 라이브러리나 프레임워크에 의존하지 않고, 딥러닝의 핵심을 ‘밑바닥부터’ 직접 만들어보며 즐겁게 배울 수 있는 본격 딥러닝 입문서다. 술술 읽힐 만큼 쉽게 설명하였고, 역전파처럼 어려운 내용은 ‘계산 그래프’ 기법으로 시각적으로 풀이했다. 무엇보다 작동하는 코드가 있어 직접 돌려보고 요리조리 수정해보면 어려운 이론도 명확하게 이해할 수 있다. 딥러닝에 새롭게 입문하려는 독자들과 기초를 다시금 정리하고 싶은 현업 연구자와 개발자에게 유용한 책이 될 것이다.\\n\\n새로운 지식을 배울 때 설명만 들어서는 석연치 않거나 금방 잊어버리게 된다. 그래서 무엇보다 ‘직접 해보는 것’이 중요하다. 이 책은 딥러닝의 기본을 ‘이론 설명’과 ‘파이썬 구현 코드’라는 투 트랙으로 설명한다. 각 장은 주제 하나를 설명한 후 그것을 실습할 수 있도록 꾸몄다. 즉, 실행되는 소스 코드를 준비했다. 소스 코드를 읽으면서 스스로 생각하고 그 생각을 반영해 실험하다 보면 확실하게 자기 것으로 만들 수 있다. 여러 실험을 해보면서 겪는 시행착오 역시 큰 자산이 될 것이다.'}]}"
      ]
     },
     "execution_count": 3,
     "metadata": {},
     "output_type": "execute_result"
    }
   ],
   "source": [
    "import urllib.request\n",
    "import json\n",
    "\n",
    "#client_id = \"\"\n",
    "#client_secret = \"\" \n",
    "    \n",
    "url = create_url(\"book\", \"딥러닝\", 1, 3)\n",
    "    \n",
    "request = urllib.request.Request(url)\n",
    "request.add_header(\"X-Naver-Client-Id\", client_id)\n",
    "request.add_header(\"X-Naver-Client-Secret\", client_secret)\n",
    "    \n",
    "response = urllib.request.urlopen(request)\n",
    "\n",
    "result = json.loads(response.read().decode('utf-8'))\n",
    "result"
   ]
  },
  {
   "cell_type": "code",
   "execution_count": 4,
   "metadata": {},
   "outputs": [
    {
     "data": {
      "text/plain": [
       "['컴퓨터 비전과 딥러닝', '딥러닝', '밑바닥부터 시작하는 딥러닝 (파이썬으로 익히는 딥러닝 이론과 구현)']"
      ]
     },
     "execution_count": 4,
     "metadata": {},
     "output_type": "execute_result"
    }
   ],
   "source": [
    "titles = authors = [result['items'][n]['title'] for n in range(3)]\n",
    "titles"
   ]
  },
  {
   "cell_type": "code",
   "execution_count": 5,
   "metadata": {},
   "outputs": [
    {
     "data": {
      "text/plain": [
       "['오일석', '박혜정^석경하^심주용^황창하', '사이토 고키']"
      ]
     },
     "execution_count": 5,
     "metadata": {},
     "output_type": "execute_result"
    }
   ],
   "source": [
    "authors = [result['items'][n]['author'] for n in range(3)]\n",
    "authors"
   ]
  },
  {
   "cell_type": "code",
   "execution_count": 6,
   "metadata": {},
   "outputs": [
    {
     "data": {
      "text/plain": [
       "['20230105', '20180630', '20170103']"
      ]
     },
     "execution_count": 6,
     "metadata": {},
     "output_type": "execute_result"
    }
   ],
   "source": [
    "pubdates = [result['items'][n]['pubdate'] for n in range(3)]\n",
    "pubdates"
   ]
  },
  {
   "cell_type": "code",
   "execution_count": 7,
   "metadata": {},
   "outputs": [
    {
     "data": {
      "text/html": [
       "<div>\n",
       "<style scoped>\n",
       "    .dataframe tbody tr th:only-of-type {\n",
       "        vertical-align: middle;\n",
       "    }\n",
       "\n",
       "    .dataframe tbody tr th {\n",
       "        vertical-align: top;\n",
       "    }\n",
       "\n",
       "    .dataframe thead th {\n",
       "        text-align: right;\n",
       "    }\n",
       "</style>\n",
       "<table border=\"1\" class=\"dataframe\">\n",
       "  <thead>\n",
       "    <tr style=\"text-align: right;\">\n",
       "      <th></th>\n",
       "      <th>책제목</th>\n",
       "      <th>작가</th>\n",
       "      <th>출판일</th>\n",
       "    </tr>\n",
       "  </thead>\n",
       "  <tbody>\n",
       "    <tr>\n",
       "      <th>0</th>\n",
       "      <td>컴퓨터 비전과 딥러닝</td>\n",
       "      <td>오일석</td>\n",
       "      <td>20230105</td>\n",
       "    </tr>\n",
       "    <tr>\n",
       "      <th>1</th>\n",
       "      <td>딥러닝</td>\n",
       "      <td>박혜정^석경하^심주용^황창하</td>\n",
       "      <td>20180630</td>\n",
       "    </tr>\n",
       "    <tr>\n",
       "      <th>2</th>\n",
       "      <td>밑바닥부터 시작하는 딥러닝 (파이썬으로 익히는 딥러닝 이론과 구현)</td>\n",
       "      <td>사이토 고키</td>\n",
       "      <td>20170103</td>\n",
       "    </tr>\n",
       "  </tbody>\n",
       "</table>\n",
       "</div>"
      ],
      "text/plain": [
       "                                     책제목               작가       출판일\n",
       "0                            컴퓨터 비전과 딥러닝              오일석  20230105\n",
       "1                                    딥러닝  박혜정^석경하^심주용^황창하  20180630\n",
       "2  밑바닥부터 시작하는 딥러닝 (파이썬으로 익히는 딥러닝 이론과 구현)           사이토 고키  20170103"
      ]
     },
     "execution_count": 7,
     "metadata": {},
     "output_type": "execute_result"
    }
   ],
   "source": [
    "import pandas as pd\n",
    "pd.DataFrame({'책제목':titles, '작가':authors, '출판일':pubdates})"
   ]
  },
  {
   "cell_type": "code",
   "execution_count": 8,
   "metadata": {},
   "outputs": [],
   "source": [
    "def get_dataframe(url):\n",
    "    #client_id = \"\"\n",
    "    #client_secret = \"\"\n",
    "    \n",
    "    request = urllib.request.Request(url)\n",
    "    request.add_header(\"X-Naver-Client-Id\", client_id)\n",
    "    request.add_header(\"X-Naver-Client-Secret\", client_secret)\n",
    "    \n",
    "    response = urllib.request.urlopen(request)\n",
    "\n",
    "    result = json.loads(response.read().decode('utf-8'))\n",
    "    \n",
    "    end_num = result['display']\n",
    "    \n",
    "    titles = [result['items'][n]['title'] for n in range(end_num)]\n",
    "    authors = [result['items'][n]['author'] for n in range(end_num)]\n",
    "    pubdates = [result['items'][n]['pubdate'] for n in range(end_num)]\n",
    "    \n",
    "    return pd.DataFrame({'책제목':titles, '작가':authors, '출판일':pubdates})"
   ]
  },
  {
   "cell_type": "code",
   "execution_count": 9,
   "metadata": {},
   "outputs": [
    {
     "data": {
      "text/html": [
       "<div>\n",
       "<style scoped>\n",
       "    .dataframe tbody tr th:only-of-type {\n",
       "        vertical-align: middle;\n",
       "    }\n",
       "\n",
       "    .dataframe tbody tr th {\n",
       "        vertical-align: top;\n",
       "    }\n",
       "\n",
       "    .dataframe thead th {\n",
       "        text-align: right;\n",
       "    }\n",
       "</style>\n",
       "<table border=\"1\" class=\"dataframe\">\n",
       "  <thead>\n",
       "    <tr style=\"text-align: right;\">\n",
       "      <th></th>\n",
       "      <th>책제목</th>\n",
       "      <th>작가</th>\n",
       "      <th>출판일</th>\n",
       "    </tr>\n",
       "  </thead>\n",
       "  <tbody>\n",
       "    <tr>\n",
       "      <th>0</th>\n",
       "      <td>컴퓨터 비전과 딥러닝</td>\n",
       "      <td>오일석</td>\n",
       "      <td>20230105</td>\n",
       "    </tr>\n",
       "    <tr>\n",
       "      <th>1</th>\n",
       "      <td>딥러닝</td>\n",
       "      <td>박혜정^석경하^심주용^황창하</td>\n",
       "      <td>20180630</td>\n",
       "    </tr>\n",
       "    <tr>\n",
       "      <th>2</th>\n",
       "      <td>밑바닥부터 시작하는 딥러닝 (파이썬으로 익히는 딥러닝 이론과 구현)</td>\n",
       "      <td>사이토 고키</td>\n",
       "      <td>20170103</td>\n",
       "    </tr>\n",
       "  </tbody>\n",
       "</table>\n",
       "</div>"
      ],
      "text/plain": [
       "                                     책제목               작가       출판일\n",
       "0                            컴퓨터 비전과 딥러닝              오일석  20230105\n",
       "1                                    딥러닝  박혜정^석경하^심주용^황창하  20180630\n",
       "2  밑바닥부터 시작하는 딥러닝 (파이썬으로 익히는 딥러닝 이론과 구현)           사이토 고키  20170103"
      ]
     },
     "execution_count": 9,
     "metadata": {},
     "output_type": "execute_result"
    }
   ],
   "source": [
    "get_dataframe(url)"
   ]
  },
  {
   "cell_type": "code",
   "execution_count": 10,
   "metadata": {},
   "outputs": [],
   "source": [
    "def delete_tag(input_str):\n",
    "    input_str = input_str.replace(\"<b>\", \"\")\n",
    "    input_str = input_str.replace(\"</b>\", \"\")\n",
    "    return input_str"
   ]
  },
  {
   "cell_type": "code",
   "execution_count": 11,
   "metadata": {},
   "outputs": [],
   "source": [
    "def get_dataframe(url):\n",
    "    #client_id = \"\"\n",
    "    #client_secret = \"\"\n",
    "    \n",
    "    request = urllib.request.Request(url)\n",
    "    request.add_header(\"X-Naver-Client-Id\", client_id)\n",
    "    request.add_header(\"X-Naver-Client-Secret\", client_secret)\n",
    "    \n",
    "    response = urllib.request.urlopen(request)\n",
    "\n",
    "    result = json.loads(response.read().decode('utf-8'))\n",
    "    \n",
    "    end_num = result['display']\n",
    "    \n",
    "    titles = [delete_tag(result['items'][n]['title']) for n in range(end_num)]\n",
    "    authors = [result['items'][n]['author'] for n in range(end_num)]\n",
    "    pubdates = [result['items'][n]['pubdate'] for n in range(end_num)]\n",
    "\n",
    "    return pd.DataFrame({'책제목':titles, '작가':authors, '출판일':pubdates})"
   ]
  },
  {
   "cell_type": "code",
   "execution_count": 12,
   "metadata": {},
   "outputs": [
    {
     "data": {
      "text/html": [
       "<div>\n",
       "<style scoped>\n",
       "    .dataframe tbody tr th:only-of-type {\n",
       "        vertical-align: middle;\n",
       "    }\n",
       "\n",
       "    .dataframe tbody tr th {\n",
       "        vertical-align: top;\n",
       "    }\n",
       "\n",
       "    .dataframe thead th {\n",
       "        text-align: right;\n",
       "    }\n",
       "</style>\n",
       "<table border=\"1\" class=\"dataframe\">\n",
       "  <thead>\n",
       "    <tr style=\"text-align: right;\">\n",
       "      <th></th>\n",
       "      <th>책제목</th>\n",
       "      <th>작가</th>\n",
       "      <th>출판일</th>\n",
       "    </tr>\n",
       "  </thead>\n",
       "  <tbody>\n",
       "    <tr>\n",
       "      <th>0</th>\n",
       "      <td>컴퓨터 비전과 딥러닝</td>\n",
       "      <td>오일석</td>\n",
       "      <td>20230105</td>\n",
       "    </tr>\n",
       "    <tr>\n",
       "      <th>1</th>\n",
       "      <td>딥러닝</td>\n",
       "      <td>박혜정^석경하^심주용^황창하</td>\n",
       "      <td>20180630</td>\n",
       "    </tr>\n",
       "    <tr>\n",
       "      <th>2</th>\n",
       "      <td>밑바닥부터 시작하는 딥러닝 (파이썬으로 익히는 딥러닝 이론과 구현)</td>\n",
       "      <td>사이토 고키</td>\n",
       "      <td>20170103</td>\n",
       "    </tr>\n",
       "  </tbody>\n",
       "</table>\n",
       "</div>"
      ],
      "text/plain": [
       "                                     책제목               작가       출판일\n",
       "0                            컴퓨터 비전과 딥러닝              오일석  20230105\n",
       "1                                    딥러닝  박혜정^석경하^심주용^황창하  20180630\n",
       "2  밑바닥부터 시작하는 딥러닝 (파이썬으로 익히는 딥러닝 이론과 구현)           사이토 고키  20170103"
      ]
     },
     "execution_count": 12,
     "metadata": {},
     "output_type": "execute_result"
    }
   ],
   "source": [
    "get_dataframe(url)"
   ]
  },
  {
   "cell_type": "code",
   "execution_count": 13,
   "metadata": {},
   "outputs": [],
   "source": [
    "result_search = []\n",
    "\n",
    "for n in range(1,400,100):\n",
    "    url = create_url(\"book\", \"딥러닝\", n, 100)\n",
    "    result_search.append(get_dataframe(url))\n",
    "    \n",
    "result_search = pd.concat(result_search)"
   ]
  },
  {
   "cell_type": "code",
   "execution_count": 14,
   "metadata": {},
   "outputs": [
    {
     "data": {
      "text/html": [
       "<div>\n",
       "<style scoped>\n",
       "    .dataframe tbody tr th:only-of-type {\n",
       "        vertical-align: middle;\n",
       "    }\n",
       "\n",
       "    .dataframe tbody tr th {\n",
       "        vertical-align: top;\n",
       "    }\n",
       "\n",
       "    .dataframe thead th {\n",
       "        text-align: right;\n",
       "    }\n",
       "</style>\n",
       "<table border=\"1\" class=\"dataframe\">\n",
       "  <thead>\n",
       "    <tr style=\"text-align: right;\">\n",
       "      <th></th>\n",
       "      <th>책제목</th>\n",
       "      <th>작가</th>\n",
       "      <th>출판일</th>\n",
       "    </tr>\n",
       "  </thead>\n",
       "  <tbody>\n",
       "    <tr>\n",
       "      <th>0</th>\n",
       "      <td>컴퓨터 비전과 딥러닝</td>\n",
       "      <td>오일석</td>\n",
       "      <td>20230105</td>\n",
       "    </tr>\n",
       "    <tr>\n",
       "      <th>1</th>\n",
       "      <td>딥러닝</td>\n",
       "      <td>박혜정^석경하^심주용^황창하</td>\n",
       "      <td>20180630</td>\n",
       "    </tr>\n",
       "    <tr>\n",
       "      <th>2</th>\n",
       "      <td>밑바닥부터 시작하는 딥러닝 (파이썬으로 익히는 딥러닝 이론과 구현)</td>\n",
       "      <td>사이토 고키</td>\n",
       "      <td>20170103</td>\n",
       "    </tr>\n",
       "    <tr>\n",
       "      <th>3</th>\n",
       "      <td>혼자 공부하는 머신러닝+딥러닝 (구글 코랩으로 환경 설정 없이 실습 가능)</td>\n",
       "      <td>박해선</td>\n",
       "      <td>20201221</td>\n",
       "    </tr>\n",
       "    <tr>\n",
       "      <th>4</th>\n",
       "      <td>밑바닥부터 시작하는 딥러닝 2 (파이썬으로 직접 구현하며 배우는 순환 신경망과 자연...</td>\n",
       "      <td>사이토 고키</td>\n",
       "      <td>20190501</td>\n",
       "    </tr>\n",
       "  </tbody>\n",
       "</table>\n",
       "</div>"
      ],
      "text/plain": [
       "                                                 책제목               작가  \\\n",
       "0                                        컴퓨터 비전과 딥러닝              오일석   \n",
       "1                                                딥러닝  박혜정^석경하^심주용^황창하   \n",
       "2              밑바닥부터 시작하는 딥러닝 (파이썬으로 익히는 딥러닝 이론과 구현)           사이토 고키   \n",
       "3          혼자 공부하는 머신러닝+딥러닝 (구글 코랩으로 환경 설정 없이 실습 가능)              박해선   \n",
       "4  밑바닥부터 시작하는 딥러닝 2 (파이썬으로 직접 구현하며 배우는 순환 신경망과 자연...           사이토 고키   \n",
       "\n",
       "        출판일  \n",
       "0  20230105  \n",
       "1  20180630  \n",
       "2  20170103  \n",
       "3  20201221  \n",
       "4  20190501  "
      ]
     },
     "execution_count": 14,
     "metadata": {},
     "output_type": "execute_result"
    }
   ],
   "source": [
    "result_search.head()"
   ]
  },
  {
   "cell_type": "code",
   "execution_count": 15,
   "metadata": {},
   "outputs": [
    {
     "name": "stdout",
     "output_type": "stream",
     "text": [
      "<class 'pandas.core.frame.DataFrame'>\n",
      "Int64Index: 274 entries, 0 to 73\n",
      "Data columns (total 3 columns):\n",
      " #   Column  Non-Null Count  Dtype \n",
      "---  ------  --------------  ----- \n",
      " 0   책제목     274 non-null    object\n",
      " 1   작가      274 non-null    object\n",
      " 2   출판일     274 non-null    object\n",
      "dtypes: object(3)\n",
      "memory usage: 8.6+ KB\n"
     ]
    }
   ],
   "source": [
    "result_search.info()"
   ]
  },
  {
   "cell_type": "code",
   "execution_count": 16,
   "metadata": {},
   "outputs": [
    {
     "name": "stdout",
     "output_type": "stream",
     "text": [
      "<class 'pandas.core.frame.DataFrame'>\n",
      "RangeIndex: 274 entries, 0 to 273\n",
      "Data columns (total 3 columns):\n",
      " #   Column  Non-Null Count  Dtype \n",
      "---  ------  --------------  ----- \n",
      " 0   책제목     274 non-null    object\n",
      " 1   작가      274 non-null    object\n",
      " 2   출판일     274 non-null    object\n",
      "dtypes: object(3)\n",
      "memory usage: 6.6+ KB\n"
     ]
    }
   ],
   "source": [
    "result_search = result_search.reset_index(drop=True)\n",
    "result_search.info()"
   ]
  },
  {
   "cell_type": "markdown",
   "metadata": {},
   "source": [
    "## 엑셀에 저장하기"
   ]
  },
  {
   "cell_type": "code",
   "execution_count": 18,
   "metadata": {},
   "outputs": [
    {
     "name": "stderr",
     "output_type": "stream",
     "text": [
      "/var/folders/jr/dn14k3s96vl0_2c3dwzw6b3c0000gn/T/ipykernel_4881/2582298883.py:16: FutureWarning: save is not part of the public API, usage can give unexpected results and will be removed in a future version\n",
      "  writer.save()\n"
     ]
    }
   ],
   "source": [
    "writer = pd.ExcelWriter(\"../data/DL_book_info2.xlsx\", engine='xlsxwriter')\n",
    "result_search.to_excel(writer, sheet_name='Sheet1')\n",
    "\n",
    "workbook  = writer.book\n",
    "worksheet = writer.sheets['Sheet1']\n",
    "\n",
    "format_center = workbook.add_format({'text_wrap': True})\n",
    "format_center.set_align('center')\n",
    "format_center.set_align('vcenter')\n",
    "\n",
    "worksheet.set_column('A:A', 5)\n",
    "worksheet.set_column('B:B', 90, format_center)\n",
    "worksheet.set_column('C:C', 40, format_center)\n",
    "worksheet.set_column('D:D', 15)\n",
    "\n",
    "writer.save()"
   ]
  },
  {
   "cell_type": "code",
   "execution_count": null,
   "metadata": {},
   "outputs": [],
   "source": []
  }
 ],
 "metadata": {
  "kernelspec": {
   "display_name": "Python 3 (ipykernel)",
   "language": "python",
   "name": "python3"
  },
  "language_info": {
   "codemirror_mode": {
    "name": "ipython",
    "version": 3
   },
   "file_extension": ".py",
   "mimetype": "text/x-python",
   "name": "python",
   "nbconvert_exporter": "python",
   "pygments_lexer": "ipython3",
   "version": "3.11.3"
  }
 },
 "nbformat": 4,
 "nbformat_minor": 2
}
