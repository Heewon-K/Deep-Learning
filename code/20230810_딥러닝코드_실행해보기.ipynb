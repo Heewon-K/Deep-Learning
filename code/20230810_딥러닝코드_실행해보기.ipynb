{
 "cells": [
  {
   "cell_type": "markdown",
   "metadata": {},
   "source": [
    "# 2장. 딥러닝 핵심 미리보기\n",
    "* 출처 : https://github.com/taehojo/deeplearning"
   ]
  },
  {
   "cell_type": "markdown",
   "metadata": {},
   "source": [
    "### 나의 첫 딥러닝: '10장 폐암 수술 환자의 생존율 예측' 코드 미리보기"
   ]
  },
  {
   "cell_type": "markdown",
   "metadata": {},
   "source": [
    "### 1. 환경 준비 "
   ]
  },
  {
   "cell_type": "code",
   "execution_count": 1,
   "metadata": {},
   "outputs": [],
   "source": [
    "from tensorflow.keras.models import Sequential  # 텐서플로의 케라스 API에서 필요한 함수들을 불러옵니다.\n",
    "from tensorflow.keras.layers import Dense       # 데이터를 다루는데 필요한 라이브러리를 불러옵니다.\n",
    "import numpy as np"
   ]
  },
  {
   "cell_type": "markdown",
   "metadata": {},
   "source": [
    "### 2. 데이터 준비"
   ]
  },
  {
   "cell_type": "code",
   "execution_count": 2,
   "metadata": {},
   "outputs": [],
   "source": [
    "Data_set = np.loadtxt(\"../data/ThoraricSurgery3.csv\", delimiter=\",\") # 준비된 수술 환자 데이터를 불러옵니다.\n",
    "X = Data_set[:,0:16]                                                 # 환자의 진찰 기록을 X로 지정합니다.\n",
    "y = Data_set[:,16]                                                   # 수술 후 사망/생존 여부를 y로 지정합니다."
   ]
  },
  {
   "cell_type": "markdown",
   "metadata": {},
   "source": [
    "### 3. 구조 결정 "
   ]
  },
  {
   "cell_type": "code",
   "execution_count": 3,
   "metadata": {},
   "outputs": [],
   "source": [
    "model = Sequential()    # 딥러닝 모델의 구조를 결정합니다. \n",
    "# model.add로 층을 쌓아준다 ==> 현재 2개 층을 쌓았다.\n",
    "model.add(Dense(30, input_dim=16, activation='relu')) # output:30 ==> input 16개를 30개로 output, h(x) : relu를 사용\n",
    "model.add(Dense(1, activation='sigmoid'))  # 층은 원하는 만큼 쌓을 수 있다."
   ]
  },
  {
   "cell_type": "markdown",
   "metadata": {},
   "source": [
    "1. 인공신경망 모델을 만듬<br>\n",
    "**model = Sequential()**\n",
    "\n",
    "2.멤버 함수 add()를 이용해 인공지능 계층 추가 <br>\n",
    "**model.add(Dense(30, input_dim=17, activation='relu'))**\n",
    "\n",
    "3.만든 모델을 어떻게 학습할지 파라미터로 지정하고 컴파일 합니다.<br>\n",
    "**model.compile(loss='binary_crossentropy', optimizer='adam', metrics=['accuracy'])**\n",
    "\n",
    "4.모델을 주어진 데이터로 학습<br>\n",
    "**model.fit**"
   ]
  },
  {
   "cell_type": "markdown",
   "metadata": {},
   "source": [
    "### 4. 모델 실행 "
   ]
  },
  {
   "cell_type": "code",
   "execution_count": 4,
   "metadata": {},
   "outputs": [
    {
     "name": "stdout",
     "output_type": "stream",
     "text": [
      "Epoch 1/5\n",
      "30/30 [==============================] - 1s 3ms/step - loss: 3.5955 - accuracy: 0.8511\n",
      "Epoch 2/5\n",
      "30/30 [==============================] - 0s 3ms/step - loss: 1.8902 - accuracy: 0.8511\n",
      "Epoch 3/5\n",
      "30/30 [==============================] - 0s 3ms/step - loss: 0.5923 - accuracy: 0.8468\n",
      "Epoch 4/5\n",
      "30/30 [==============================] - 0s 3ms/step - loss: 0.4380 - accuracy: 0.8511\n",
      "Epoch 5/5\n",
      "30/30 [==============================] - 0s 2ms/step - loss: 0.4392 - accuracy: 0.8447\n"
     ]
    }
   ],
   "source": [
    "model.compile(loss='binary_crossentropy', optimizer='adam', metrics=['accuracy'])  # 딥러닝 모델을 실행합니다.\n",
    "history=model.fit(X, y, epochs=5, batch_size=16)"
   ]
  },
  {
   "cell_type": "markdown",
   "metadata": {},
   "source": [
    "** epoch **<br>\n",
    "학습 반복 횟수<br>\n",
    "** batch_size ** <br>\n",
    "몇개의 샘플로 가중치를 갱신할 것인지 지정. 한번에 학습할 데이터의 건수"
   ]
  },
  {
   "cell_type": "code",
   "execution_count": null,
   "metadata": {},
   "outputs": [],
   "source": []
  }
 ],
 "metadata": {
  "kernelspec": {
   "display_name": "Python 3 (ipykernel)",
   "language": "python",
   "name": "python3"
  },
  "language_info": {
   "codemirror_mode": {
    "name": "ipython",
    "version": 3
   },
   "file_extension": ".py",
   "mimetype": "text/x-python",
   "name": "python",
   "nbconvert_exporter": "python",
   "pygments_lexer": "ipython3",
   "version": "3.10.9"
  }
 },
 "nbformat": 4,
 "nbformat_minor": 2
}
