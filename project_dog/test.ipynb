{
 "cells": [
  {
   "cell_type": "code",
   "execution_count": 10,
   "metadata": {},
   "outputs": [],
   "source": [
    "import pandas as pd"
   ]
  },
  {
   "cell_type": "code",
   "execution_count": 22,
   "metadata": {},
   "outputs": [],
   "source": [
    "df3 = pd.read_csv('DB.csv')\n",
    "df3 = df3.drop(columns=['Unnamed: 0.1', 'Unnamed: 0'])\n",
    "df3"
   ]
  },
  {
   "cell_type": "markdown",
   "metadata": {},
   "source": [
    "DataBase.to_csv('DB.csv', header = True, index = False, encoding = 'utf-8')"
   ]
  },
  {
   "cell_type": "code",
   "execution_count": 25,
   "metadata": {},
   "outputs": [],
   "source": [
    "df3.to_csv('DB.csv', index = False, encoding = 'utf-8')"
   ]
  },
  {
   "cell_type": "code",
   "execution_count": 26,
   "metadata": {},
   "outputs": [],
   "source": [
    "df = pd.read_csv('DB.csv')"
   ]
  },
  {
   "cell_type": "code",
   "execution_count": 27,
   "metadata": {},
   "outputs": [
    {
     "data": {
      "text/html": [
       "<div>\n",
       "<style scoped>\n",
       "    .dataframe tbody tr th:only-of-type {\n",
       "        vertical-align: middle;\n",
       "    }\n",
       "\n",
       "    .dataframe tbody tr th {\n",
       "        vertical-align: top;\n",
       "    }\n",
       "\n",
       "    .dataframe thead th {\n",
       "        text-align: right;\n",
       "    }\n",
       "</style>\n",
       "<table border=\"1\" class=\"dataframe\">\n",
       "  <thead>\n",
       "    <tr style=\"text-align: right;\">\n",
       "      <th></th>\n",
       "      <th>일련번호</th>\n",
       "      <th>강아지이름</th>\n",
       "      <th>나이</th>\n",
       "      <th>견종</th>\n",
       "      <th>견주이름</th>\n",
       "      <th>연락처</th>\n",
       "      <th>의료정보1</th>\n",
       "      <th>의료정보2</th>\n",
       "    </tr>\n",
       "  </thead>\n",
       "  <tbody>\n",
       "    <tr>\n",
       "      <th>0</th>\n",
       "      <td>0</td>\n",
       "      <td>보르</td>\n",
       "      <td>5</td>\n",
       "      <td>보르조이</td>\n",
       "      <td>꼬미</td>\n",
       "      <td>1011111111</td>\n",
       "      <td>1</td>\n",
       "      <td>2</td>\n",
       "    </tr>\n",
       "    <tr>\n",
       "      <th>1</th>\n",
       "      <td>1</td>\n",
       "      <td>뽀로</td>\n",
       "      <td>20</td>\n",
       "      <td>믹스</td>\n",
       "      <td>킹기훈</td>\n",
       "      <td>10</td>\n",
       "      <td>1</td>\n",
       "      <td>1</td>\n",
       "    </tr>\n",
       "    <tr>\n",
       "      <th>2</th>\n",
       "      <td>0</td>\n",
       "      <td>인절미</td>\n",
       "      <td>8</td>\n",
       "      <td>믹스</td>\n",
       "      <td>욘두</td>\n",
       "      <td>10</td>\n",
       "      <td>1</td>\n",
       "      <td>1</td>\n",
       "    </tr>\n",
       "    <tr>\n",
       "      <th>3</th>\n",
       "      <td>5</td>\n",
       "      <td>5</td>\n",
       "      <td>5</td>\n",
       "      <td>5</td>\n",
       "      <td>5</td>\n",
       "      <td>5</td>\n",
       "      <td>5</td>\n",
       "      <td>5</td>\n",
       "    </tr>\n",
       "  </tbody>\n",
       "</table>\n",
       "</div>"
      ],
      "text/plain": [
       "   일련번호 강아지이름  나이    견종 견주이름         연락처  의료정보1  의료정보2\n",
       "0     0    보르   5  보르조이   꼬미  1011111111      1      2\n",
       "1     1    뽀로  20    믹스  킹기훈          10      1      1\n",
       "2     0   인절미   8    믹스   욘두          10      1      1\n",
       "3     5     5   5     5    5           5      5      5"
      ]
     },
     "execution_count": 27,
     "metadata": {},
     "output_type": "execute_result"
    }
   ],
   "source": [
    "df"
   ]
  },
  {
   "cell_type": "markdown",
   "metadata": {},
   "source": [
    "***"
   ]
  },
  {
   "cell_type": "code",
   "execution_count": 58,
   "metadata": {},
   "outputs": [
    {
     "name": "stdout",
     "output_type": "stream",
     "text": [
      "no\n"
     ]
    }
   ],
   "source": [
    "dog_age = input('나이 :')\n",
    "if dog_age.isdigit() == False:\n",
    "    print('no')\n",
    "if dog_age.isdigit():\n",
    "    print('yes')\n",
    "    "
   ]
  },
  {
   "cell_type": "code",
   "execution_count": 30,
   "metadata": {},
   "outputs": [
    {
     "name": "stdout",
     "output_type": "stream",
     "text": [
      "올바른 입력값이 아닙니다.\n"
     ]
    }
   ],
   "source": [
    "dog_name = input(\"강아지의 이름 : \")\n",
    "if len(dog_name) > 0:\n",
    "    while True:\n",
    "        age_answer = input(\"강아지의 나이 (숫자만 입력하세요): \")\n",
    "        if age_answer.isdigit() == False:\n",
    "            print('올바른 입력값이 아닙니다.')\n",
    "            continue\n",
    "        else:\n",
    "            break\n",
    "    if age_answer.isdigit():\n",
    "        dog_age = age_answer"
   ]
  },
  {
   "cell_type": "code",
   "execution_count": 31,
   "metadata": {},
   "outputs": [
    {
     "data": {
      "text/plain": [
       "'17'"
      ]
     },
     "execution_count": 31,
     "metadata": {},
     "output_type": "execute_result"
    }
   ],
   "source": [
    "dog_age"
   ]
  },
  {
   "cell_type": "code",
   "execution_count": 34,
   "metadata": {},
   "outputs": [],
   "source": [
    "owner_info = int(input('number :'))\n",
    "owner_info = '0' + str(owner_info)"
   ]
  },
  {
   "cell_type": "code",
   "execution_count": 35,
   "metadata": {},
   "outputs": [
    {
     "data": {
      "text/plain": [
       "'01093313422'"
      ]
     },
     "execution_count": 35,
     "metadata": {},
     "output_type": "execute_result"
    }
   ],
   "source": [
    "owner_info"
   ]
  },
  {
   "cell_type": "code",
   "execution_count": 36,
   "metadata": {},
   "outputs": [
    {
     "data": {
      "text/plain": [
       "11"
      ]
     },
     "execution_count": 36,
     "metadata": {},
     "output_type": "execute_result"
    }
   ],
   "source": [
    "len(owner_info)"
   ]
  },
  {
   "cell_type": "code",
   "execution_count": 45,
   "metadata": {},
   "outputs": [],
   "source": [
    "if len(owner_info) == 11:\n",
    "    while True:\n",
    "        sex_answer = input(\"강아지의 성별 (암/수) : \")\n",
    "        if sex_answer not in ['암', '암컷', '수', '수컷']:\n",
    "            print('올바른 입력값이 아닙니다.')\n",
    "            continue\n",
    "        else:\n",
    "            break\n",
    "    if sex_answer in ['암', '암컷']:\n",
    "        dog_sex = 0\n",
    "    if sex_answer in ['수', '수컷']:\n",
    "        dog_sex = 1\n",
    "if dog_sex in [0,1]: # 중성화 여부 입력\n",
    "        while True:\n",
    "            neu_answer = input('강아지의 중성화 여부 (Y/N) : ')\n",
    "            if neu_answer not in ['y', 'Y', 'n', 'N']:\n",
    "                print('올바른 입력값이 아닙니다.')\n",
    "                continue\n",
    "            else:\n",
    "                break\n",
    "        if neu_answer in ['n', 'N']:\n",
    "            dog_neu = 0\n",
    "        if neu_answer in ['y', 'Y']:\n",
    "            dog_neu = 1"
   ]
  },
  {
   "cell_type": "code",
   "execution_count": 46,
   "metadata": {},
   "outputs": [
    {
     "data": {
      "text/plain": [
       "0"
      ]
     },
     "execution_count": 46,
     "metadata": {},
     "output_type": "execute_result"
    }
   ],
   "source": [
    "dog_sex"
   ]
  },
  {
   "cell_type": "code",
   "execution_count": 47,
   "metadata": {},
   "outputs": [
    {
     "data": {
      "text/plain": [
       "1"
      ]
     },
     "execution_count": 47,
     "metadata": {},
     "output_type": "execute_result"
    }
   ],
   "source": [
    "dog_neu"
   ]
  },
  {
   "cell_type": "code",
   "execution_count": 41,
   "metadata": {},
   "outputs": [
    {
     "name": "stdout",
     "output_type": "stream",
     "text": [
      "correct\n"
     ]
    }
   ],
   "source": [
    "if dog_sex in [0,1]:\n",
    "    print('correct')"
   ]
  },
  {
   "cell_type": "code",
   "execution_count": 54,
   "metadata": {},
   "outputs": [],
   "source": [
    "test = input('number')"
   ]
  },
  {
   "cell_type": "code",
   "execution_count": 55,
   "metadata": {},
   "outputs": [
    {
     "data": {
      "text/plain": [
       "'1.5'"
      ]
     },
     "execution_count": 55,
     "metadata": {},
     "output_type": "execute_result"
    }
   ],
   "source": [
    "test"
   ]
  },
  {
   "cell_type": "code",
   "execution_count": 53,
   "metadata": {},
   "outputs": [
    {
     "name": "stdout",
     "output_type": "stream",
     "text": [
      "correct\n"
     ]
    }
   ],
   "source": [
    "if isinstance(test, int) == False:\n",
    "    print('wrong answer')\n",
    "if isinstance(test, int):\n",
    "    print('correct')"
   ]
  },
  {
   "cell_type": "code",
   "execution_count": 23,
   "metadata": {},
   "outputs": [],
   "source": [
    "while True:\n",
    "  try:\n",
    "    num = int(input(\"Enter an integer number: \"))\n",
    "    break\n",
    "  except ValueError:\n",
    "      print(\"Please input integer only...\")  \n",
    "      continue\n",
    "answer = num"
   ]
  },
  {
   "cell_type": "code",
   "execution_count": 25,
   "metadata": {},
   "outputs": [
    {
     "data": {
      "text/plain": [
       "'01093313422'"
      ]
     },
     "execution_count": 25,
     "metadata": {},
     "output_type": "execute_result"
    }
   ],
   "source": [
    "answer = '0' + str(answer)\n",
    "answer"
   ]
  },
  {
   "cell_type": "code",
   "execution_count": 7,
   "metadata": {},
   "outputs": [],
   "source": [
    "while True:\n",
    "    try:\n",
    "        time = float(input(\"How much time has elapsed since your last stop (in hours)?\"))\n",
    "        break\n",
    "    except ValueError:\n",
    "        print(\"Enter a valid number of hours!\")\n",
    "        continue"
   ]
  },
  {
   "cell_type": "code",
   "execution_count": 8,
   "metadata": {},
   "outputs": [
    {
     "data": {
      "text/plain": [
       "3.0"
      ]
     },
     "execution_count": 8,
     "metadata": {},
     "output_type": "execute_result"
    }
   ],
   "source": [
    "#time = float(input('테스트'))\n",
    "time"
   ]
  },
  {
   "cell_type": "code",
   "execution_count": 16,
   "metadata": {},
   "outputs": [
    {
     "data": {
      "text/html": [
       "<div>\n",
       "<style scoped>\n",
       "    .dataframe tbody tr th:only-of-type {\n",
       "        vertical-align: middle;\n",
       "    }\n",
       "\n",
       "    .dataframe tbody tr th {\n",
       "        vertical-align: top;\n",
       "    }\n",
       "\n",
       "    .dataframe thead th {\n",
       "        text-align: right;\n",
       "    }\n",
       "</style>\n",
       "<table border=\"1\" class=\"dataframe\">\n",
       "  <thead>\n",
       "    <tr style=\"text-align: right;\">\n",
       "      <th></th>\n",
       "      <th>일련번호</th>\n",
       "      <th>강아지이름</th>\n",
       "      <th>나이</th>\n",
       "      <th>견종</th>\n",
       "      <th>견주이름</th>\n",
       "      <th>연락처</th>\n",
       "      <th>성별</th>\n",
       "      <th>중성화</th>\n",
       "      <th>체중</th>\n",
       "    </tr>\n",
       "  </thead>\n",
       "  <tbody>\n",
       "  </tbody>\n",
       "</table>\n",
       "</div>"
      ],
      "text/plain": [
       "Empty DataFrame\n",
       "Columns: [일련번호, 강아지이름, 나이, 견종, 견주이름, 연락처, 성별, 중성화, 체중]\n",
       "Index: []"
      ]
     },
     "execution_count": 16,
     "metadata": {},
     "output_type": "execute_result"
    }
   ],
   "source": [
    "DataBase = pd.DataFrame(columns=['일련번호', '강아지이름', '나이', '견종', '견주이름', '연락처', '성별', '중성화', '체중'])\n",
    "DataBase"
   ]
  },
  {
   "cell_type": "code",
   "execution_count": 19,
   "metadata": {},
   "outputs": [],
   "source": [
    "DataBase.to_csv('DB.csv', index = False, encoding = 'cp949')"
   ]
  },
  {
   "cell_type": "code",
   "execution_count": 20,
   "metadata": {},
   "outputs": [],
   "source": [
    "df = pd.read_csv('DB.csv', encoding='cp949')"
   ]
  },
  {
   "cell_type": "code",
   "execution_count": 21,
   "metadata": {},
   "outputs": [
    {
     "data": {
      "text/html": [
       "<div>\n",
       "<style scoped>\n",
       "    .dataframe tbody tr th:only-of-type {\n",
       "        vertical-align: middle;\n",
       "    }\n",
       "\n",
       "    .dataframe tbody tr th {\n",
       "        vertical-align: top;\n",
       "    }\n",
       "\n",
       "    .dataframe thead th {\n",
       "        text-align: right;\n",
       "    }\n",
       "</style>\n",
       "<table border=\"1\" class=\"dataframe\">\n",
       "  <thead>\n",
       "    <tr style=\"text-align: right;\">\n",
       "      <th></th>\n",
       "      <th>일련번호</th>\n",
       "      <th>강아지이름</th>\n",
       "      <th>나이</th>\n",
       "      <th>견종</th>\n",
       "      <th>견주이름</th>\n",
       "      <th>연락처</th>\n",
       "      <th>성별</th>\n",
       "      <th>중성화</th>\n",
       "      <th>체중</th>\n",
       "    </tr>\n",
       "  </thead>\n",
       "  <tbody>\n",
       "  </tbody>\n",
       "</table>\n",
       "</div>"
      ],
      "text/plain": [
       "Empty DataFrame\n",
       "Columns: [일련번호, 강아지이름, 나이, 견종, 견주이름, 연락처, 성별, 중성화, 체중]\n",
       "Index: []"
      ]
     },
     "execution_count": 21,
     "metadata": {},
     "output_type": "execute_result"
    }
   ],
   "source": [
    "df"
   ]
  },
  {
   "cell_type": "code",
   "execution_count": 26,
   "metadata": {},
   "outputs": [],
   "source": [
    "id = [0,1,2,3,4,5]\n",
    "dog_name = ['은비', '금비', '하루', '욘두', '라떼', '엘리']\n",
    "dog_age = [5,6,7,8,9,10]\n",
    "dog_sp= ['포메라니안', '포메라니안', '시츄', '말티즈', '푸들', '보르조이']\n",
    "owner_name = ['희원', '민호', '진서', '영훈', '창훈', '기훈']\n",
    "owner_info = ['01099999999', '01088888888', '01077777777', '01066666666', '01055555555', '01044444444']\n",
    "dog_sex = [0,0,1,1,0,0]\n",
    "dog_neu = [0,1,0,1,0,1]\n",
    "dog_wght = [3, 3.5, 4, 4.5, 5, 5.5]"
   ]
  },
  {
   "cell_type": "code",
   "execution_count": 28,
   "metadata": {},
   "outputs": [
    {
     "data": {
      "text/plain": [
       "'은비'"
      ]
     },
     "execution_count": 28,
     "metadata": {},
     "output_type": "execute_result"
    }
   ],
   "source": [
    "dog_name[0]"
   ]
  },
  {
   "cell_type": "code",
   "execution_count": 29,
   "metadata": {},
   "outputs": [
    {
     "data": {
      "text/html": [
       "<div>\n",
       "<style scoped>\n",
       "    .dataframe tbody tr th:only-of-type {\n",
       "        vertical-align: middle;\n",
       "    }\n",
       "\n",
       "    .dataframe tbody tr th {\n",
       "        vertical-align: top;\n",
       "    }\n",
       "\n",
       "    .dataframe thead th {\n",
       "        text-align: right;\n",
       "    }\n",
       "</style>\n",
       "<table border=\"1\" class=\"dataframe\">\n",
       "  <thead>\n",
       "    <tr style=\"text-align: right;\">\n",
       "      <th></th>\n",
       "      <th>일련번호</th>\n",
       "      <th>강아지이름</th>\n",
       "      <th>나이</th>\n",
       "      <th>견종</th>\n",
       "      <th>견주이름</th>\n",
       "      <th>연락처</th>\n",
       "      <th>성별</th>\n",
       "      <th>중성화</th>\n",
       "      <th>체중</th>\n",
       "    </tr>\n",
       "  </thead>\n",
       "  <tbody>\n",
       "    <tr>\n",
       "      <th>0</th>\n",
       "      <td>0</td>\n",
       "      <td>은비</td>\n",
       "      <td>5</td>\n",
       "      <td>포메라니안</td>\n",
       "      <td>희원</td>\n",
       "      <td>01099999999</td>\n",
       "      <td>0</td>\n",
       "      <td>0</td>\n",
       "      <td>3</td>\n",
       "    </tr>\n",
       "    <tr>\n",
       "      <th>1</th>\n",
       "      <td>1</td>\n",
       "      <td>금비</td>\n",
       "      <td>6</td>\n",
       "      <td>포메라니안</td>\n",
       "      <td>민호</td>\n",
       "      <td>01088888888</td>\n",
       "      <td>0</td>\n",
       "      <td>1</td>\n",
       "      <td>3.5</td>\n",
       "    </tr>\n",
       "    <tr>\n",
       "      <th>2</th>\n",
       "      <td>2</td>\n",
       "      <td>하루</td>\n",
       "      <td>7</td>\n",
       "      <td>시츄</td>\n",
       "      <td>진서</td>\n",
       "      <td>01077777777</td>\n",
       "      <td>1</td>\n",
       "      <td>0</td>\n",
       "      <td>4</td>\n",
       "    </tr>\n",
       "    <tr>\n",
       "      <th>3</th>\n",
       "      <td>3</td>\n",
       "      <td>욘두</td>\n",
       "      <td>8</td>\n",
       "      <td>말티즈</td>\n",
       "      <td>영훈</td>\n",
       "      <td>01066666666</td>\n",
       "      <td>1</td>\n",
       "      <td>1</td>\n",
       "      <td>4.5</td>\n",
       "    </tr>\n",
       "    <tr>\n",
       "      <th>4</th>\n",
       "      <td>4</td>\n",
       "      <td>라떼</td>\n",
       "      <td>9</td>\n",
       "      <td>푸들</td>\n",
       "      <td>창훈</td>\n",
       "      <td>01055555555</td>\n",
       "      <td>0</td>\n",
       "      <td>0</td>\n",
       "      <td>5</td>\n",
       "    </tr>\n",
       "    <tr>\n",
       "      <th>5</th>\n",
       "      <td>5</td>\n",
       "      <td>엘리</td>\n",
       "      <td>10</td>\n",
       "      <td>보르조이</td>\n",
       "      <td>기훈</td>\n",
       "      <td>01044444444</td>\n",
       "      <td>0</td>\n",
       "      <td>1</td>\n",
       "      <td>5.5</td>\n",
       "    </tr>\n",
       "  </tbody>\n",
       "</table>\n",
       "</div>"
      ],
      "text/plain": [
       "  일련번호 강아지이름  나이     견종 견주이름          연락처 성별 중성화   체중\n",
       "0    0    은비   5  포메라니안   희원  01099999999  0   0    3\n",
       "1    1    금비   6  포메라니안   민호  01088888888  0   1  3.5\n",
       "2    2    하루   7     시츄   진서  01077777777  1   0    4\n",
       "3    3    욘두   8    말티즈   영훈  01066666666  1   1  4.5\n",
       "4    4    라떼   9     푸들   창훈  01055555555  0   0    5\n",
       "5    5    엘리  10   보르조이   기훈  01044444444  0   1  5.5"
      ]
     },
     "execution_count": 29,
     "metadata": {},
     "output_type": "execute_result"
    }
   ],
   "source": [
    "for i in range(6):\n",
    "    input_data = {'일련번호': id[i], '강아지이름': dog_name[i], '나이': dog_age[i], '견종':dog_sp[i], '견주이름':owner_name[i], \n",
    "              '연락처':owner_info[i], '성별':dog_sex[i], '중성화':dog_neu[i], '체중' : dog_wght[i]}\n",
    "    DataBase.loc[len(DataBase)] = input_data\n",
    "DataBase"
   ]
  },
  {
   "cell_type": "code",
   "execution_count": 30,
   "metadata": {},
   "outputs": [],
   "source": [
    "DataBase.to_csv('DB.csv', index = False, encoding = 'cp949')"
   ]
  },
  {
   "cell_type": "code",
   "execution_count": 31,
   "metadata": {},
   "outputs": [
    {
     "data": {
      "text/html": [
       "<div>\n",
       "<style scoped>\n",
       "    .dataframe tbody tr th:only-of-type {\n",
       "        vertical-align: middle;\n",
       "    }\n",
       "\n",
       "    .dataframe tbody tr th {\n",
       "        vertical-align: top;\n",
       "    }\n",
       "\n",
       "    .dataframe thead th {\n",
       "        text-align: right;\n",
       "    }\n",
       "</style>\n",
       "<table border=\"1\" class=\"dataframe\">\n",
       "  <thead>\n",
       "    <tr style=\"text-align: right;\">\n",
       "      <th></th>\n",
       "      <th>일련번호</th>\n",
       "      <th>강아지이름</th>\n",
       "      <th>나이</th>\n",
       "      <th>견종</th>\n",
       "      <th>견주이름</th>\n",
       "      <th>연락처</th>\n",
       "      <th>성별</th>\n",
       "      <th>중성화</th>\n",
       "      <th>체중</th>\n",
       "    </tr>\n",
       "  </thead>\n",
       "  <tbody>\n",
       "    <tr>\n",
       "      <th>0</th>\n",
       "      <td>0</td>\n",
       "      <td>은비</td>\n",
       "      <td>5</td>\n",
       "      <td>포메라니안</td>\n",
       "      <td>희원</td>\n",
       "      <td>1099999999</td>\n",
       "      <td>0</td>\n",
       "      <td>0</td>\n",
       "      <td>3.0</td>\n",
       "    </tr>\n",
       "    <tr>\n",
       "      <th>1</th>\n",
       "      <td>1</td>\n",
       "      <td>금비</td>\n",
       "      <td>6</td>\n",
       "      <td>포메라니안</td>\n",
       "      <td>민호</td>\n",
       "      <td>1088888888</td>\n",
       "      <td>0</td>\n",
       "      <td>1</td>\n",
       "      <td>3.5</td>\n",
       "    </tr>\n",
       "    <tr>\n",
       "      <th>2</th>\n",
       "      <td>2</td>\n",
       "      <td>하루</td>\n",
       "      <td>7</td>\n",
       "      <td>시츄</td>\n",
       "      <td>진서</td>\n",
       "      <td>1077777777</td>\n",
       "      <td>1</td>\n",
       "      <td>0</td>\n",
       "      <td>4.0</td>\n",
       "    </tr>\n",
       "    <tr>\n",
       "      <th>3</th>\n",
       "      <td>3</td>\n",
       "      <td>욘두</td>\n",
       "      <td>8</td>\n",
       "      <td>말티즈</td>\n",
       "      <td>영훈</td>\n",
       "      <td>1066666666</td>\n",
       "      <td>1</td>\n",
       "      <td>1</td>\n",
       "      <td>4.5</td>\n",
       "    </tr>\n",
       "    <tr>\n",
       "      <th>4</th>\n",
       "      <td>4</td>\n",
       "      <td>라떼</td>\n",
       "      <td>9</td>\n",
       "      <td>푸들</td>\n",
       "      <td>창훈</td>\n",
       "      <td>1055555555</td>\n",
       "      <td>0</td>\n",
       "      <td>0</td>\n",
       "      <td>5.0</td>\n",
       "    </tr>\n",
       "    <tr>\n",
       "      <th>5</th>\n",
       "      <td>5</td>\n",
       "      <td>엘리</td>\n",
       "      <td>10</td>\n",
       "      <td>보르조이</td>\n",
       "      <td>기훈</td>\n",
       "      <td>1044444444</td>\n",
       "      <td>0</td>\n",
       "      <td>1</td>\n",
       "      <td>5.5</td>\n",
       "    </tr>\n",
       "  </tbody>\n",
       "</table>\n",
       "</div>"
      ],
      "text/plain": [
       "   일련번호 강아지이름  나이     견종 견주이름         연락처  성별  중성화   체중\n",
       "0     0    은비   5  포메라니안   희원  1099999999   0    0  3.0\n",
       "1     1    금비   6  포메라니안   민호  1088888888   0    1  3.5\n",
       "2     2    하루   7     시츄   진서  1077777777   1    0  4.0\n",
       "3     3    욘두   8    말티즈   영훈  1066666666   1    1  4.5\n",
       "4     4    라떼   9     푸들   창훈  1055555555   0    0  5.0\n",
       "5     5    엘리  10   보르조이   기훈  1044444444   0    1  5.5"
      ]
     },
     "execution_count": 31,
     "metadata": {},
     "output_type": "execute_result"
    }
   ],
   "source": [
    "df_1 = pd.read_csv('DB.csv', encoding = 'cp949')\n",
    "df_1"
   ]
  },
  {
   "cell_type": "code",
   "execution_count": null,
   "metadata": {},
   "outputs": [],
   "source": []
  }
 ],
 "metadata": {
  "kernelspec": {
   "display_name": "doggo",
   "language": "python",
   "name": "python3"
  },
  "language_info": {
   "codemirror_mode": {
    "name": "ipython",
    "version": 3
   },
   "file_extension": ".py",
   "mimetype": "text/x-python",
   "name": "python",
   "nbconvert_exporter": "python",
   "pygments_lexer": "ipython3",
   "version": "3.7.10"
  },
  "orig_nbformat": 4
 },
 "nbformat": 4,
 "nbformat_minor": 2
}
