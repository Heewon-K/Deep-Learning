{
 "cells": [
  {
   "cell_type": "code",
   "execution_count": 68,
   "metadata": {},
   "outputs": [],
   "source": [
    "# preprocessing 과정에 DB update\n",
    "def new_input():\n",
    "    global DataBase\n",
    "    global idx\n",
    "    # 신규 강아지 input\n",
    "    dog_name = input(\"강아지의 이름 : \")\n",
    "    dog_age = input(\"강아지의 나이 : \")\n",
    "    dog_sp = input(\"견종 : \")\n",
    "    owner_name = input(\"견주의 이름 : \")\n",
    "    owner_info = input(\"견주의 정보 : \")\n",
    "    dog_med1 = input(\"강아지의 의료정보 1 : \")\n",
    "    dog_med2 = input(\"강아지의 의료정보 2 : \")\n",
    "    dog_id = \"파일에서 뽑은 일련번호\"\n",
    "    \n",
    "    input_data = {'일련번호': dog_id, '강아지이름': dog_name, '나이': dog_age, '견종':dog_sp, '견주이름':owner_name, \n",
    "                  '견주정보':owner_info, '의료정보1':dog_med1, '의료정보2':dog_med2}\n",
    "    DataBase = DataBase.append(input_data, ignore_index = True)\n",
    "    DataBase.to_csv('../DB.csv', header = True, index = False)"
   ]
  },
  {
   "cell_type": "code",
   "execution_count": 69,
   "metadata": {},
   "outputs": [],
   "source": [
    "import pandas as pd\n",
    "import os\n",
    "if not os.path.isfile('../DB.csv'):\n",
    "    DataBase = pd.DataFrame(columns=['일련번호', '강아지이름', '나이', '견종', '견주이름', '견주정보', '의료정보1', '의료정보2'])\n",
    "    new_input()\n",
    "else:\n",
    "    DataBase = pd.read_csv('../DB.csv')\n",
    "    new_input() "
   ]
  },
  {
   "cell_type": "markdown",
   "metadata": {},
   "source": [
    "***"
   ]
  },
  {
   "cell_type": "code",
   "execution_count": null,
   "metadata": {},
   "outputs": [],
   "source": [
    "result =\"\"\n",
    "if svm_k==knn_k:\n",
    "    result = result+svm_k+\",\"\n",
    "else:\n",
    "    result = result+\"a,\"\n",
    "# result = result+\"202151796꿍1234\"+\",\"\n",
    "# result =result+\"등록된강아지\"+\",\"\n",
    "\n",
    "if (svm_prob < 0.65 and knn_prob < 0.55) or svm_k != knn_k:\n",
    "    result = result+\"미등록강아지\"+\",\"\n",
    "else:\n",
    "    result = result+\"등록된강아지\"+\",\"\n",
    "#Accuracy\n",
    "if svm.score(X_test,Y_test) > knn.score(X_test,Y_test):\n",
    "    result = result+str(svm.score(X_test,Y_test))\n",
    "else :\n",
    "    result = result+str(knn.score(X_test,Y_test))\n",
    "        \n",
    "    # print(\"SVM Score: \", svm.score(X_test, Y_test))\n",
    "    # print(\"KNN Score: \", knn.score(X_test, Y_test))\n",
    "    # print(\"running time: \", round(time.time() - start, 2))\n",
    "\n",
    "print(result)"
   ]
  },
  {
   "cell_type": "code",
   "execution_count": 66,
   "metadata": {},
   "outputs": [],
   "source": [
    "svm_k = 1\n",
    "knn_k = 1"
   ]
  },
  {
   "cell_type": "code",
   "execution_count": 71,
   "metadata": {},
   "outputs": [
    {
     "data": {
      "text/html": [
       "<div>\n",
       "<style scoped>\n",
       "    .dataframe tbody tr th:only-of-type {\n",
       "        vertical-align: middle;\n",
       "    }\n",
       "\n",
       "    .dataframe tbody tr th {\n",
       "        vertical-align: top;\n",
       "    }\n",
       "\n",
       "    .dataframe thead th {\n",
       "        text-align: right;\n",
       "    }\n",
       "</style>\n",
       "<table border=\"1\" class=\"dataframe\">\n",
       "  <thead>\n",
       "    <tr style=\"text-align: right;\">\n",
       "      <th></th>\n",
       "      <th>일련번호</th>\n",
       "      <th>강아지이름</th>\n",
       "      <th>나이</th>\n",
       "      <th>견종</th>\n",
       "      <th>견주이름</th>\n",
       "      <th>견주정보</th>\n",
       "      <th>의료정보1</th>\n",
       "      <th>의료정보2</th>\n",
       "    </tr>\n",
       "  </thead>\n",
       "  <tbody>\n",
       "    <tr>\n",
       "      <th>0</th>\n",
       "      <td>0</td>\n",
       "      <td>은비</td>\n",
       "      <td>17</td>\n",
       "      <td>포메</td>\n",
       "      <td>박서윤</td>\n",
       "      <td>정보</td>\n",
       "      <td>1</td>\n",
       "      <td>2</td>\n",
       "    </tr>\n",
       "    <tr>\n",
       "      <th>1</th>\n",
       "      <td>1</td>\n",
       "      <td>해피</td>\n",
       "      <td>2</td>\n",
       "      <td>닥스훈트</td>\n",
       "      <td>김희원</td>\n",
       "      <td>정ㅇ</td>\n",
       "      <td>1</td>\n",
       "      <td>2</td>\n",
       "    </tr>\n",
       "    <tr>\n",
       "      <th>2</th>\n",
       "      <td>2</td>\n",
       "      <td>6</td>\n",
       "      <td>0</td>\n",
       "      <td>9</td>\n",
       "      <td>9</td>\n",
       "      <td>9</td>\n",
       "      <td>0</td>\n",
       "      <td>0</td>\n",
       "    </tr>\n",
       "    <tr>\n",
       "      <th>3</th>\n",
       "      <td>3</td>\n",
       "      <td>dog</td>\n",
       "      <td>20</td>\n",
       "      <td>dog</td>\n",
       "      <td>human</td>\n",
       "      <td>human</td>\n",
       "      <td>1</td>\n",
       "      <td>2</td>\n",
       "    </tr>\n",
       "  </tbody>\n",
       "</table>\n",
       "</div>"
      ],
      "text/plain": [
       "   일련번호 강아지이름  나이    견종   견주이름   견주정보  의료정보1  의료정보2\n",
       "0     0    은비  17    포메    박서윤     정보      1      2\n",
       "1     1    해피   2  닥스훈트    김희원     정ㅇ      1      2\n",
       "2     2     6   0     9      9      9      0      0\n",
       "3     3   dog  20   dog  human  human      1      2"
      ]
     },
     "execution_count": 71,
     "metadata": {},
     "output_type": "execute_result"
    }
   ],
   "source": [
    "df"
   ]
  },
  {
   "cell_type": "code",
   "execution_count": 67,
   "metadata": {},
   "outputs": [
    {
     "name": "stdout",
     "output_type": "stream",
     "text": [
      "이 강아지는 등록이 되어있는 강아지 입니다!\n",
      "제 이름은 ['해피'], 2살 입니다! ['김희원']님과 함께 살고 있어요!\n",
      "저는 닥스훈트예요 :3\n"
     ]
    }
   ],
   "source": [
    "# classifier.py에서 돌아가는 코드\n",
    "df = pd.read_csv('../DB.csv')\n",
    "\n",
    "if svm_k==knn_k and max([knn.score(X_test, Y_test), svm.score(X_test, Y_test)]) >= 0.85:\n",
    "# (svm_prob < 0.65 and knn_prob < 0.55) or svm_k != knn_k의 반대 + accuracy도 활용?\n",
    "    print('이 강아지는 등록이 되어있는 강아지 입니다!' + '\\n' + '제 이름은 {}, {}살 입니다! {}님과 함께 살고 있어요!'.format(df['강아지이름'][df['일련번호']==svm_k].values, df['나이'][df['일련번호']==svm_k].values[0], df['견주이름'][df['일련번호']==svm_k].values) +'\\n' + '저는 {}예요 :3'.format(df['견종'][df['일련번호']==svm_k].values[0]))\n",
    "else: # (svm_prob < 0.65 and knn_prob < 0.55) or svm_k != knn_k:\n",
    "    print('이 강아지는 아직 등록되어 있지 않아요! 등록하시겠습니까?')"
   ]
  },
  {
   "cell_type": "markdown",
   "metadata": {},
   "source": [
    "이 강아지는 등록이 되어있는 강아지 입니다!\n",
    "제 이름은 {}, {}살 입니다! {}님과 함께 살고 있어요!\n",
    "저는 {}예요 :3\n"
   ]
  },
  {
   "cell_type": "code",
   "execution_count": null,
   "metadata": {},
   "outputs": [],
   "source": [
    "#df.loc[ df[“column_name”] == “some_value”, “column_name”] = “value”\n",
    "# df['CONTENT'][df['CLASS'] == 1]\n",
    "# print(\"Hello {}, hope you're well!\".format(first_name))"
   ]
  },
  {
   "cell_type": "code",
   "execution_count": 58,
   "metadata": {},
   "outputs": [
    {
     "name": "stdout",
     "output_type": "stream",
     "text": [
      "강아지의 이름은 ['해피']입니다\n"
     ]
    }
   ],
   "source": [
    "print('강아지의 이름은 {}입니다'.format(df['강아지이름'][df['일련번호']==svm_k].values))"
   ]
  },
  {
   "cell_type": "markdown",
   "metadata": {},
   "source": [
    "***"
   ]
  },
  {
   "cell_type": "code",
   "execution_count": null,
   "metadata": {},
   "outputs": [],
   "source": [
    "# detect에서 이어서 연결\n",
    "# import os\n",
    "os.system('python Project_dog/scan/classifier.py --parser')\n",
    "\n",
    "# classifier에서 결과에 따라 등록 과정 연결\n",
    "# import os\n",
    "os.system('python Project_dog/register/detect.py --parser')\n",
    "# register - detect에 이어서 연결\n",
    "os.system('python Project_dog/register/preprocess.py --parser')"
   ]
  },
  {
   "cell_type": "markdown",
   "metadata": {},
   "source": [
    "***"
   ]
  },
  {
   "cell_type": "code",
   "execution_count": null,
   "metadata": {},
   "outputs": [],
   "source": [
    "import pandas as pd\n",
    "\n",
    "def update_db():\n",
    "    DataBase = pd.read_csv('./DB.csv')\n",
    "    DataDic = DataBase.to_dict(orient='records')\n",
    "    Info = DataDic[svm_k]\n",
    "    \n",
    "    dog_name = input(\"강아지의 이름 : \")\n",
    "    dog_age = input(\"강아지의 나이 : \")\n",
    "    dog_sp = input(\"견종 : \")\n",
    "    owner_name = input(\"견주의 이름 : \")\n",
    "    owner_info = input(\"견주의 정보 : \")\n",
    "    dog_med1 = input(\"강아지의 의료정보 1 : \")\n",
    "    dog_med2 = input(\"강아지의 의료정보 2 : \")\n",
    "    dog_id = \"파일에서 뽑은 일련번호\"\n",
    "    \n",
    "    input_data = {'일련번호': dog_id, '강아지이름': dog_name, '나이': dog_age, '견종':dog_sp, '견주이름':owner_name, \n",
    "                  '견주정보':owner_info, '의료정보1':dog_med1, '의료정보2':dog_med2}\n",
    "    DataBase = DataBase.append(input_data, ignore_index = True)\n",
    "    DataBase.to_csv('../DB.csv', header = True, index = False)"
   ]
  },
  {
   "cell_type": "code",
   "execution_count": 75,
   "metadata": {},
   "outputs": [
    {
     "data": {
      "text/plain": [
       "{'일련번호': '0',\n",
       " '강아지이름': '은비',\n",
       " '나이': '17',\n",
       " '견종': '포메',\n",
       " '견주이름': '박서윤',\n",
       " '견주정보': '정보',\n",
       " '의료정보1': '1',\n",
       " '의료정보2': '2'}"
      ]
     },
     "execution_count": 75,
     "metadata": {},
     "output_type": "execute_result"
    }
   ],
   "source": [
    "DataBase = pd.read_csv('./DB.csv')\n",
    "DataDic = DataBase.to_dict(orient='records')\n",
    "Info = DataDic[0]\n",
    "Info"
   ]
  },
  {
   "cell_type": "code",
   "execution_count": 84,
   "metadata": {},
   "outputs": [],
   "source": [
    "folder_list = ['0', '1', '2']\n",
    "tmp = []\n"
   ]
  },
  {
   "cell_type": "code",
   "execution_count": 85,
   "metadata": {},
   "outputs": [],
   "source": [
    "for f in folder_list:\n",
    "    tmp.append(f)"
   ]
  },
  {
   "cell_type": "code",
   "execution_count": 86,
   "metadata": {},
   "outputs": [
    {
     "data": {
      "text/plain": [
       "['0', '1', '2']"
      ]
     },
     "execution_count": 86,
     "metadata": {},
     "output_type": "execute_result"
    }
   ],
   "source": [
    "tmp"
   ]
  },
  {
   "cell_type": "code",
   "execution_count": 87,
   "metadata": {},
   "outputs": [
    {
     "data": {
      "text/plain": [
       "'2'"
      ]
     },
     "execution_count": 87,
     "metadata": {},
     "output_type": "execute_result"
    }
   ],
   "source": [
    "max(tmp)"
   ]
  },
  {
   "cell_type": "code",
   "execution_count": 2,
   "metadata": {},
   "outputs": [],
   "source": [
    "import pandas as pd"
   ]
  },
  {
   "cell_type": "code",
   "execution_count": 3,
   "metadata": {},
   "outputs": [],
   "source": [
    "DataBase = pd.DataFrame(columns=['일련번호', '강아지이름', '나이', '견종', '견주이름', '견주정보', '의료정보1', '의료정보2'])"
   ]
  },
  {
   "cell_type": "code",
   "execution_count": 4,
   "metadata": {},
   "outputs": [],
   "source": [
    "input_data = {'일련번호': 'dog_id', '강아지이름': 'dog_name', '나이': 'dog_age', '견종':'dog_sp', '견주이름':'owner_name', \n",
    "                  '연락처':'owner_info', '의료정보1':'dog_med1', '의료정보2':'dog_med2'}\n",
    "DataBase = DataBase.append(input_data, ignore_index = True)\n",
    "#DataBase.to_csv('../DB.csv', header = True, index = False)"
   ]
  },
  {
   "cell_type": "code",
   "execution_count": 5,
   "metadata": {},
   "outputs": [
    {
     "data": {
      "text/html": [
       "<div>\n",
       "<style scoped>\n",
       "    .dataframe tbody tr th:only-of-type {\n",
       "        vertical-align: middle;\n",
       "    }\n",
       "\n",
       "    .dataframe tbody tr th {\n",
       "        vertical-align: top;\n",
       "    }\n",
       "\n",
       "    .dataframe thead th {\n",
       "        text-align: right;\n",
       "    }\n",
       "</style>\n",
       "<table border=\"1\" class=\"dataframe\">\n",
       "  <thead>\n",
       "    <tr style=\"text-align: right;\">\n",
       "      <th></th>\n",
       "      <th>일련번호</th>\n",
       "      <th>강아지이름</th>\n",
       "      <th>나이</th>\n",
       "      <th>견종</th>\n",
       "      <th>견주이름</th>\n",
       "      <th>견주정보</th>\n",
       "      <th>의료정보1</th>\n",
       "      <th>의료정보2</th>\n",
       "      <th>연락처</th>\n",
       "    </tr>\n",
       "  </thead>\n",
       "  <tbody>\n",
       "    <tr>\n",
       "      <th>0</th>\n",
       "      <td>dog_id</td>\n",
       "      <td>dog_name</td>\n",
       "      <td>dog_age</td>\n",
       "      <td>dog_sp</td>\n",
       "      <td>owner_name</td>\n",
       "      <td>NaN</td>\n",
       "      <td>dog_med1</td>\n",
       "      <td>dog_med2</td>\n",
       "      <td>owner_info</td>\n",
       "    </tr>\n",
       "  </tbody>\n",
       "</table>\n",
       "</div>"
      ],
      "text/plain": [
       "     일련번호     강아지이름       나이      견종        견주이름 견주정보     의료정보1     의료정보2  \\\n",
       "0  dog_id  dog_name  dog_age  dog_sp  owner_name  NaN  dog_med1  dog_med2   \n",
       "\n",
       "          연락처  \n",
       "0  owner_info  "
      ]
     },
     "execution_count": 5,
     "metadata": {},
     "output_type": "execute_result"
    }
   ],
   "source": [
    "DataBase"
   ]
  },
  {
   "cell_type": "code",
   "execution_count": 7,
   "metadata": {},
   "outputs": [
    {
     "data": {
      "text/plain": [
       "'3.4.2'"
      ]
     },
     "execution_count": 7,
     "metadata": {},
     "output_type": "execute_result"
    }
   ],
   "source": [
    "import cv2\n",
    "cv2.__version__"
   ]
  },
  {
   "cell_type": "code",
   "execution_count": 9,
   "metadata": {},
   "outputs": [],
   "source": [
    "import os"
   ]
  },
  {
   "cell_type": "code",
   "execution_count": 12,
   "metadata": {},
   "outputs": [],
   "source": [
    "path = \"C:/Users/Playdata/Documents/GitHub/Deep-Learning/Project3/Save-Pets-ML-main/SVM-Classifier/Dog-Data/train\"\n",
    "file_list = os.listdir(path)\n",
    "label2id = {}\n",
    "\n",
    "idx = 0\n",
    "for i, label in enumerate(file_list): #file_list = Dog-Data/train 하위 폴더 내역\n",
    "    if label == \".DS_Store\": #디렉터리에 .DS_Store는 제외\n",
    "        continue\n",
    "    label2id[label] = idx #dictionary룰 통해\n",
    "    idx += 1"
   ]
  },
  {
   "cell_type": "code",
   "execution_count": 13,
   "metadata": {},
   "outputs": [
    {
     "data": {
      "text/plain": [
       "{'0': 0, '1': 1, '2': 2, '3': 3, '4': 4, '5': 5}"
      ]
     },
     "execution_count": 13,
     "metadata": {},
     "output_type": "execute_result"
    }
   ],
   "source": [
    "label2id"
   ]
  },
  {
   "cell_type": "code",
   "execution_count": 14,
   "metadata": {},
   "outputs": [],
   "source": [
    "X=[]\n",
    "Y=[]"
   ]
  },
  {
   "cell_type": "code",
   "execution_count": 18,
   "metadata": {},
   "outputs": [],
   "source": [
    "for label in os.listdir('C:/Users/Playdata/Documents/GitHub/Deep-Learning/Project3/Save-Pets-ML-main/SVM-Classifier/Dog-Data/train'):\n",
    "    # Dog-Data/train 디렉터리 내의 각 라벨(폴더)에 대해 반복합니다.\n",
    "    # 라벨(폴더)명은 int(현재 0~5)\n",
    "    if os.path.isdir(os.path.join('C:/Users/Playdata/Documents/GitHub/Deep-Learning/Project3/Save-Pets-ML-main/SVM-Classifier/Dog-Data/train', label)):\n",
    "        # 각 라벨 디렉터리 내의 이미지 파일에 대해 반복합니다.\n",
    "        for img_file in os.listdir(os.path.join('C:/Users/Playdata/Documents/GitHub/Deep-Learning/Project3/Save-Pets-ML-main/SVM-Classifier/Dog-Data/train',\n",
    "                                                     label)):\n",
    "            # 이미지를 읽어옵니다.\n",
    "            img = cv2.imread(os.path.join('C:/Users/Playdata/Documents/GitHub/Deep-Learning/Project3/Save-Pets-ML-main/SVM-Classifier/Dog-Data/train', \n",
    "                                              label, img_file)) \n",
    "            X.append(img) # 이미지 데이터를 X 리스트에 추가합니다.\n",
    "            Y.append(label2id[label]) # 이미지의 라벨을 숫자 ID로 변환하여 Y 리스트에 추가합니다."
   ]
  },
  {
   "cell_type": "code",
   "execution_count": 19,
   "metadata": {},
   "outputs": [
    {
     "data": {
      "text/plain": [
       "[0,\n",
       " 0,\n",
       " 0,\n",
       " 0,\n",
       " 0,\n",
       " 0,\n",
       " 0,\n",
       " 0,\n",
       " 0,\n",
       " 0,\n",
       " 0,\n",
       " 0,\n",
       " 0,\n",
       " 0,\n",
       " 0,\n",
       " 0,\n",
       " 0,\n",
       " 0,\n",
       " 0,\n",
       " 0,\n",
       " 0,\n",
       " 0,\n",
       " 0,\n",
       " 0,\n",
       " 0,\n",
       " 0,\n",
       " 0,\n",
       " 0,\n",
       " 0,\n",
       " 0,\n",
       " 0,\n",
       " 0,\n",
       " 0,\n",
       " 0,\n",
       " 0,\n",
       " 0,\n",
       " 0,\n",
       " 0,\n",
       " 0,\n",
       " 0,\n",
       " 0,\n",
       " 0,\n",
       " 0,\n",
       " 0,\n",
       " 0,\n",
       " 0,\n",
       " 0,\n",
       " 0,\n",
       " 0,\n",
       " 0,\n",
       " 0,\n",
       " 0,\n",
       " 0,\n",
       " 0,\n",
       " 0,\n",
       " 0,\n",
       " 0,\n",
       " 0,\n",
       " 0,\n",
       " 0,\n",
       " 0,\n",
       " 0,\n",
       " 0,\n",
       " 0,\n",
       " 0,\n",
       " 0,\n",
       " 0,\n",
       " 0,\n",
       " 0,\n",
       " 0,\n",
       " 1,\n",
       " 1,\n",
       " 1,\n",
       " 1,\n",
       " 1,\n",
       " 1,\n",
       " 1,\n",
       " 1,\n",
       " 1,\n",
       " 1,\n",
       " 1,\n",
       " 1,\n",
       " 1,\n",
       " 1,\n",
       " 1,\n",
       " 1,\n",
       " 1,\n",
       " 1,\n",
       " 1,\n",
       " 1,\n",
       " 1,\n",
       " 1,\n",
       " 1,\n",
       " 1,\n",
       " 1,\n",
       " 1,\n",
       " 1,\n",
       " 1,\n",
       " 1,\n",
       " 1,\n",
       " 1,\n",
       " 1,\n",
       " 1,\n",
       " 1,\n",
       " 1,\n",
       " 1,\n",
       " 1,\n",
       " 1,\n",
       " 1,\n",
       " 1,\n",
       " 1,\n",
       " 1,\n",
       " 1,\n",
       " 1,\n",
       " 1,\n",
       " 1,\n",
       " 1,\n",
       " 1,\n",
       " 1,\n",
       " 1,\n",
       " 1,\n",
       " 1,\n",
       " 1,\n",
       " 1,\n",
       " 1,\n",
       " 1,\n",
       " 1,\n",
       " 1,\n",
       " 1,\n",
       " 1,\n",
       " 2,\n",
       " 2,\n",
       " 2,\n",
       " 2,\n",
       " 2,\n",
       " 2,\n",
       " 2,\n",
       " 2,\n",
       " 2,\n",
       " 2,\n",
       " 2,\n",
       " 2,\n",
       " 2,\n",
       " 2,\n",
       " 2,\n",
       " 2,\n",
       " 2,\n",
       " 2,\n",
       " 2,\n",
       " 2,\n",
       " 2,\n",
       " 2,\n",
       " 2,\n",
       " 2,\n",
       " 2,\n",
       " 2,\n",
       " 2,\n",
       " 2,\n",
       " 2,\n",
       " 2,\n",
       " 2,\n",
       " 2,\n",
       " 2,\n",
       " 2,\n",
       " 2,\n",
       " 2,\n",
       " 2,\n",
       " 2,\n",
       " 2,\n",
       " 2,\n",
       " 2,\n",
       " 2,\n",
       " 2,\n",
       " 2,\n",
       " 2,\n",
       " 2,\n",
       " 2,\n",
       " 2,\n",
       " 2,\n",
       " 2,\n",
       " 2,\n",
       " 2,\n",
       " 2,\n",
       " 2,\n",
       " 2,\n",
       " 2,\n",
       " 2,\n",
       " 2,\n",
       " 2,\n",
       " 2,\n",
       " 2,\n",
       " 2,\n",
       " 2,\n",
       " 2,\n",
       " 2,\n",
       " 2,\n",
       " 2,\n",
       " 2,\n",
       " 2,\n",
       " 2,\n",
       " 2,\n",
       " 2,\n",
       " 2,\n",
       " 2,\n",
       " 2,\n",
       " 2,\n",
       " 2,\n",
       " 2,\n",
       " 2,\n",
       " 2,\n",
       " 3,\n",
       " 3,\n",
       " 3,\n",
       " 3,\n",
       " 3,\n",
       " 3,\n",
       " 3,\n",
       " 3,\n",
       " 3,\n",
       " 3,\n",
       " 3,\n",
       " 3,\n",
       " 3,\n",
       " 3,\n",
       " 3,\n",
       " 3,\n",
       " 3,\n",
       " 3,\n",
       " 3,\n",
       " 3,\n",
       " 3,\n",
       " 3,\n",
       " 3,\n",
       " 3,\n",
       " 3,\n",
       " 3,\n",
       " 3,\n",
       " 3,\n",
       " 3,\n",
       " 3,\n",
       " 3,\n",
       " 3,\n",
       " 3,\n",
       " 3,\n",
       " 3,\n",
       " 3,\n",
       " 3,\n",
       " 3,\n",
       " 3,\n",
       " 3,\n",
       " 3,\n",
       " 3,\n",
       " 3,\n",
       " 3,\n",
       " 3,\n",
       " 3,\n",
       " 3,\n",
       " 3,\n",
       " 3,\n",
       " 3,\n",
       " 3,\n",
       " 3,\n",
       " 3,\n",
       " 3,\n",
       " 3,\n",
       " 3,\n",
       " 3,\n",
       " 3,\n",
       " 3,\n",
       " 3,\n",
       " 3,\n",
       " 3,\n",
       " 3,\n",
       " 3,\n",
       " 3,\n",
       " 3,\n",
       " 3,\n",
       " 3,\n",
       " 3,\n",
       " 3,\n",
       " 4,\n",
       " 4,\n",
       " 4,\n",
       " 4,\n",
       " 4,\n",
       " 4,\n",
       " 4,\n",
       " 4,\n",
       " 4,\n",
       " 4,\n",
       " 4,\n",
       " 4,\n",
       " 4,\n",
       " 4,\n",
       " 4,\n",
       " 4,\n",
       " 4,\n",
       " 4,\n",
       " 4,\n",
       " 4,\n",
       " 4,\n",
       " 4,\n",
       " 4,\n",
       " 4,\n",
       " 4,\n",
       " 4,\n",
       " 4,\n",
       " 4,\n",
       " 4,\n",
       " 4,\n",
       " 4,\n",
       " 4,\n",
       " 4,\n",
       " 4,\n",
       " 4,\n",
       " 4,\n",
       " 4,\n",
       " 4,\n",
       " 4,\n",
       " 4,\n",
       " 4,\n",
       " 4,\n",
       " 4,\n",
       " 4,\n",
       " 4,\n",
       " 4,\n",
       " 4,\n",
       " 4,\n",
       " 4,\n",
       " 4,\n",
       " 4,\n",
       " 4,\n",
       " 4,\n",
       " 4,\n",
       " 4,\n",
       " 4,\n",
       " 4,\n",
       " 4,\n",
       " 4,\n",
       " 4,\n",
       " 5,\n",
       " 5,\n",
       " 5,\n",
       " 5,\n",
       " 5,\n",
       " 5,\n",
       " 5,\n",
       " 5,\n",
       " 5,\n",
       " 5,\n",
       " 5,\n",
       " 5,\n",
       " 5,\n",
       " 5,\n",
       " 5,\n",
       " 5,\n",
       " 5,\n",
       " 5,\n",
       " 5,\n",
       " 5,\n",
       " 5,\n",
       " 5,\n",
       " 5,\n",
       " 5,\n",
       " 5,\n",
       " 5,\n",
       " 5,\n",
       " 5,\n",
       " 5,\n",
       " 5,\n",
       " 5,\n",
       " 5,\n",
       " 5,\n",
       " 5,\n",
       " 5,\n",
       " 5,\n",
       " 5,\n",
       " 5,\n",
       " 5,\n",
       " 5,\n",
       " 5,\n",
       " 5,\n",
       " 5,\n",
       " 5,\n",
       " 5,\n",
       " 5,\n",
       " 5,\n",
       " 5,\n",
       " 5,\n",
       " 5,\n",
       " 5,\n",
       " 5,\n",
       " 5,\n",
       " 5,\n",
       " 5,\n",
       " 5,\n",
       " 5,\n",
       " 5,\n",
       " 5,\n",
       " 5]"
      ]
     },
     "execution_count": 19,
     "metadata": {},
     "output_type": "execute_result"
    }
   ],
   "source": [
    "Y"
   ]
  },
  {
   "cell_type": "code",
   "execution_count": 33,
   "metadata": {},
   "outputs": [],
   "source": [
    "import cv2\n",
    "img = cv2.imread(img_path)"
   ]
  },
  {
   "cell_type": "code",
   "execution_count": 34,
   "metadata": {},
   "outputs": [],
   "source": [
    "img"
   ]
  },
  {
   "cell_type": "code",
   "execution_count": 26,
   "metadata": {},
   "outputs": [],
   "source": [
    "mypath = ('../Project3/Save-Pets-ML-main/SVM-Classifier/Dog-Data/test/')"
   ]
  },
  {
   "cell_type": "code",
   "execution_count": 4,
   "metadata": {},
   "outputs": [],
   "source": [
    "from os import listdir\n",
    "from os.path import isfile, join\n",
    "#onlyfiles = [f for f in listdir(mypath) if isfile(join(mypath, f))]"
   ]
  },
  {
   "cell_type": "code",
   "execution_count": 8,
   "metadata": {},
   "outputs": [
    {
     "data": {
      "text/plain": [
       "['6.jpg']"
      ]
     },
     "execution_count": 8,
     "metadata": {},
     "output_type": "execute_result"
    }
   ],
   "source": [
    "onlyfiles"
   ]
  },
  {
   "cell_type": "code",
   "execution_count": 29,
   "metadata": {},
   "outputs": [],
   "source": [
    "test_dir = 'testimage'"
   ]
  },
  {
   "cell_type": "code",
   "execution_count": 30,
   "metadata": {},
   "outputs": [],
   "source": [
    "import os"
   ]
  },
  {
   "cell_type": "code",
   "execution_count": 31,
   "metadata": {},
   "outputs": [],
   "source": [
    "for filename in os.listdir(test_dir):\n",
    "    if 'DS_Store' not in filename:\n",
    "        # if filename.endswith('.jpg'):  # 이미지 파일인 경우에만 처리\n",
    "        # 파일의 전체 경로를 생성\n",
    "        #onlyfiles = [f for f in listdir(test_dir) if isfile(join(test_dir, f))]\n",
    "        img_path = os.path.join(test_dir, filename)"
   ]
  },
  {
   "cell_type": "code",
   "execution_count": 32,
   "metadata": {},
   "outputs": [
    {
     "data": {
      "text/plain": [
       "'testimage\\\\6'"
      ]
     },
     "execution_count": 32,
     "metadata": {},
     "output_type": "execute_result"
    }
   ],
   "source": [
    "img_path"
   ]
  },
  {
   "cell_type": "code",
   "execution_count": 37,
   "metadata": {},
   "outputs": [],
   "source": [
    "from register import main"
   ]
  },
  {
   "cell_type": "code",
   "execution_count": 38,
   "metadata": {},
   "outputs": [
    {
     "name": "stdout",
     "output_type": "stream",
     "text": [
      "os\n"
     ]
    }
   ],
   "source": [
    "import register\n",
    "answer = input(\"y/n\")\n",
    "if answer == 'y':\n",
    "    register.main()"
   ]
  },
  {
   "cell_type": "code",
   "execution_count": 40,
   "metadata": {},
   "outputs": [
    {
     "data": {
      "text/plain": [
       "1"
      ]
     },
     "execution_count": 40,
     "metadata": {},
     "output_type": "execute_result"
    }
   ],
   "source": []
  },
  {
   "cell_type": "code",
   "execution_count": null,
   "metadata": {},
   "outputs": [],
   "source": []
  }
 ],
 "metadata": {
  "kernelspec": {
   "display_name": "doggo",
   "language": "python",
   "name": "python3"
  },
  "language_info": {
   "codemirror_mode": {
    "name": "ipython",
    "version": 3
   },
   "file_extension": ".py",
   "mimetype": "text/x-python",
   "name": "python",
   "nbconvert_exporter": "python",
   "pygments_lexer": "ipython3",
   "version": "3.7.10"
  },
  "orig_nbformat": 4
 },
 "nbformat": 4,
 "nbformat_minor": 2
}
