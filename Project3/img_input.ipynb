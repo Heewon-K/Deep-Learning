{
 "cells": [
  {
   "cell_type": "code",
   "execution_count": 68,
   "metadata": {},
   "outputs": [],
   "source": [
    "# preprocessing 과정에 DB update\n",
    "def new_input():\n",
    "    global DataBase\n",
    "    # 신규 강아지 input\n",
    "    dog_name = input(\"강아지의 이름 : \")\n",
    "    dog_age = input(\"강아지의 나이 : \")\n",
    "    dog_sp = input(\"견종 : \")\n",
    "    owner_name = input(\"견주의 이름 : \")\n",
    "    owner_info = input(\"견주의 정보 : \")\n",
    "    dog_med1 = input(\"강아지의 의료정보 1 : \")\n",
    "    dog_med2 = input(\"강아지의 의료정보 2 : \")\n",
    "    dog_id = \"파일에서 뽑은 일련번호\"\n",
    "    \n",
    "    input_data = {'일련번호': dog_id, '강아지이름': dog_name, '나이': dog_age, '견종':dog_sp, '견주이름':owner_name, \n",
    "                  '견주정보':owner_info, '의료정보1':dog_med1, '의료정보2':dog_med2}\n",
    "    DataBase = DataBase.append(input_data, ignore_index = True)\n",
    "    DataBase.to_csv('../DB.csv', header = True, index = False)"
   ]
  },
  {
   "cell_type": "code",
   "execution_count": 69,
   "metadata": {},
   "outputs": [],
   "source": [
    "import pandas as pd\n",
    "import os\n",
    "if not os.path.isfile('../DB.csv'):\n",
    "    DataBase = pd.DataFrame(columns=['일련번호', '강아지이름', '나이', '견종', '견주이름', '견주정보', '의료정보1', '의료정보2'])\n",
    "    new_input()\n",
    "else:\n",
    "    DataBase = pd.read_csv('../DB.csv')\n",
    "    new_input() "
   ]
  },
  {
   "cell_type": "markdown",
   "metadata": {},
   "source": [
    "***"
   ]
  },
  {
   "cell_type": "code",
   "execution_count": null,
   "metadata": {},
   "outputs": [],
   "source": [
    "result =\"\"\n",
    "if svm_k==knn_k:\n",
    "    result = result+svm_k+\",\"\n",
    "else:\n",
    "    result = result+\"a,\"\n",
    "# result = result+\"202151796꿍1234\"+\",\"\n",
    "# result =result+\"등록된강아지\"+\",\"\n",
    "\n",
    "if (svm_prob < 0.65 and knn_prob < 0.55) or svm_k != knn_k:\n",
    "    result = result+\"미등록강아지\"+\",\"\n",
    "else:\n",
    "    result = result+\"등록된강아지\"+\",\"\n",
    "#Accuracy\n",
    "if svm.score(X_test,Y_test) > knn.score(X_test,Y_test):\n",
    "    result = result+str(svm.score(X_test,Y_test))\n",
    "else :\n",
    "    result = result+str(knn.score(X_test,Y_test))\n",
    "        \n",
    "    # print(\"SVM Score: \", svm.score(X_test, Y_test))\n",
    "    # print(\"KNN Score: \", knn.score(X_test, Y_test))\n",
    "    # print(\"running time: \", round(time.time() - start, 2))\n",
    "\n",
    "print(result)"
   ]
  },
  {
   "cell_type": "code",
   "execution_count": 66,
   "metadata": {},
   "outputs": [],
   "source": [
    "svm_k = 1\n",
    "knn_k = 1"
   ]
  },
  {
   "cell_type": "code",
   "execution_count": 71,
   "metadata": {},
   "outputs": [
    {
     "data": {
      "text/html": [
       "<div>\n",
       "<style scoped>\n",
       "    .dataframe tbody tr th:only-of-type {\n",
       "        vertical-align: middle;\n",
       "    }\n",
       "\n",
       "    .dataframe tbody tr th {\n",
       "        vertical-align: top;\n",
       "    }\n",
       "\n",
       "    .dataframe thead th {\n",
       "        text-align: right;\n",
       "    }\n",
       "</style>\n",
       "<table border=\"1\" class=\"dataframe\">\n",
       "  <thead>\n",
       "    <tr style=\"text-align: right;\">\n",
       "      <th></th>\n",
       "      <th>일련번호</th>\n",
       "      <th>강아지이름</th>\n",
       "      <th>나이</th>\n",
       "      <th>견종</th>\n",
       "      <th>견주이름</th>\n",
       "      <th>견주정보</th>\n",
       "      <th>의료정보1</th>\n",
       "      <th>의료정보2</th>\n",
       "    </tr>\n",
       "  </thead>\n",
       "  <tbody>\n",
       "    <tr>\n",
       "      <th>0</th>\n",
       "      <td>0</td>\n",
       "      <td>은비</td>\n",
       "      <td>17</td>\n",
       "      <td>포메</td>\n",
       "      <td>박서윤</td>\n",
       "      <td>정보</td>\n",
       "      <td>1</td>\n",
       "      <td>2</td>\n",
       "    </tr>\n",
       "    <tr>\n",
       "      <th>1</th>\n",
       "      <td>1</td>\n",
       "      <td>해피</td>\n",
       "      <td>2</td>\n",
       "      <td>닥스훈트</td>\n",
       "      <td>김희원</td>\n",
       "      <td>정ㅇ</td>\n",
       "      <td>1</td>\n",
       "      <td>2</td>\n",
       "    </tr>\n",
       "    <tr>\n",
       "      <th>2</th>\n",
       "      <td>2</td>\n",
       "      <td>6</td>\n",
       "      <td>0</td>\n",
       "      <td>9</td>\n",
       "      <td>9</td>\n",
       "      <td>9</td>\n",
       "      <td>0</td>\n",
       "      <td>0</td>\n",
       "    </tr>\n",
       "    <tr>\n",
       "      <th>3</th>\n",
       "      <td>3</td>\n",
       "      <td>dog</td>\n",
       "      <td>20</td>\n",
       "      <td>dog</td>\n",
       "      <td>human</td>\n",
       "      <td>human</td>\n",
       "      <td>1</td>\n",
       "      <td>2</td>\n",
       "    </tr>\n",
       "  </tbody>\n",
       "</table>\n",
       "</div>"
      ],
      "text/plain": [
       "   일련번호 강아지이름  나이    견종   견주이름   견주정보  의료정보1  의료정보2\n",
       "0     0    은비  17    포메    박서윤     정보      1      2\n",
       "1     1    해피   2  닥스훈트    김희원     정ㅇ      1      2\n",
       "2     2     6   0     9      9      9      0      0\n",
       "3     3   dog  20   dog  human  human      1      2"
      ]
     },
     "execution_count": 71,
     "metadata": {},
     "output_type": "execute_result"
    }
   ],
   "source": [
    "df"
   ]
  },
  {
   "cell_type": "code",
   "execution_count": 67,
   "metadata": {},
   "outputs": [
    {
     "name": "stdout",
     "output_type": "stream",
     "text": [
      "이 강아지는 등록이 되어있는 강아지 입니다!\n",
      "제 이름은 ['해피'], 2살 입니다! ['김희원']님과 함께 살고 있어요!\n",
      "저는 닥스훈트예요 :3\n"
     ]
    }
   ],
   "source": [
    "# classifier.py에서 돌아가는 코드\n",
    "df = pd.read_csv('../DB.csv')\n",
    "\n",
    "if svm_k==knn_k and max([knn.score(X_test, Y_test), svm.score(X_test, Y_test)]) >= 0.85:\n",
    "# (svm_prob < 0.65 and knn_prob < 0.55) or svm_k != knn_k의 반대 + accuracy도 활용?\n",
    "    print('이 강아지는 등록이 되어있는 강아지 입니다!' + '\\n' + '제 이름은 {}, {}살 입니다! {}님과 함께 살고 있어요!'.format(df['강아지이름'][df['일련번호']==svm_k].values, df['나이'][df['일련번호']==svm_k].values[0], df['견주이름'][df['일련번호']==svm_k].values) +'\\n' + '저는 {}예요 :3'.format(df['견종'][df['일련번호']==svm_k].values[0]))\n",
    "else: # (svm_prob < 0.65 and knn_prob < 0.55) or svm_k != knn_k:\n",
    "    print('이 강아지는 아직 등록되어 있지 않아요! 등록하시겠습니까?')"
   ]
  },
  {
   "cell_type": "markdown",
   "metadata": {},
   "source": [
    "이 강아지는 등록이 되어있는 강아지 입니다!\n",
    "제 이름은 {}, {}살 입니다! {}님과 함께 살고 있어요!\n",
    "저는 {}예요 :3\n"
   ]
  },
  {
   "cell_type": "code",
   "execution_count": null,
   "metadata": {},
   "outputs": [],
   "source": [
    "#df.loc[ df[“column_name”] == “some_value”, “column_name”] = “value”\n",
    "# df['CONTENT'][df['CLASS'] == 1]\n",
    "# print(\"Hello {}, hope you're well!\".format(first_name))"
   ]
  },
  {
   "cell_type": "code",
   "execution_count": 58,
   "metadata": {},
   "outputs": [
    {
     "name": "stdout",
     "output_type": "stream",
     "text": [
      "강아지의 이름은 ['해피']입니다\n"
     ]
    }
   ],
   "source": [
    "print('강아지의 이름은 {}입니다'.format(df['강아지이름'][df['일련번호']==svm_k].values))"
   ]
  },
  {
   "cell_type": "markdown",
   "metadata": {},
   "source": [
    "***"
   ]
  },
  {
   "cell_type": "code",
   "execution_count": null,
   "metadata": {},
   "outputs": [],
   "source": [
    "# detect에서 이어서 연결\n",
    "# import os\n",
    "os.system('python Project_dog/scan/classifier.py --parser')\n",
    "\n",
    "# classifier에서 결과에 따라 등록 과정 연결\n",
    "# import os\n",
    "os.system('python Project_dog/register/detect.py --parser')\n",
    "# register - detect에 이어서 연결\n",
    "os.system('python Project_dog/register/preprocess.py --parser')"
   ]
  },
  {
   "cell_type": "markdown",
   "metadata": {},
   "source": [
    "***"
   ]
  },
  {
   "cell_type": "code",
   "execution_count": null,
   "metadata": {},
   "outputs": [],
   "source": [
    "import pandas as pd\n",
    "\n",
    "def update_db():\n",
    "    DataBase = pd.read_csv('./DB.csv')\n",
    "    DataBase.to_dict(orient='records')\n",
    "    dog_name = input(\"강아지의 이름 : \")\n",
    "    dog_age = input(\"강아지의 나이 : \")\n",
    "    dog_sp = input(\"견종 : \")\n",
    "    owner_name = input(\"견주의 이름 : \")\n",
    "    owner_info = input(\"견주의 정보 : \")\n",
    "    dog_med1 = input(\"강아지의 의료정보 1 : \")\n",
    "    dog_med2 = input(\"강아지의 의료정보 2 : \")\n",
    "    dog_id = \"파일에서 뽑은 일련번호\"\n",
    "    \n",
    "    input_data = {'일련번호': dog_id, '강아지이름': dog_name, '나이': dog_age, '견종':dog_sp, '견주이름':owner_name, \n",
    "                  '견주정보':owner_info, '의료정보1':dog_med1, '의료정보2':dog_med2}\n",
    "    DataBase = DataBase.append(input_data, ignore_index = True)\n",
    "    DataBase.to_csv('../DB.csv', header = True, index = False)"
   ]
  },
  {
   "cell_type": "code",
   "execution_count": 75,
   "metadata": {},
   "outputs": [
    {
     "data": {
      "text/plain": [
       "{'일련번호': '0',\n",
       " '강아지이름': '은비',\n",
       " '나이': '17',\n",
       " '견종': '포메',\n",
       " '견주이름': '박서윤',\n",
       " '견주정보': '정보',\n",
       " '의료정보1': '1',\n",
       " '의료정보2': '2'}"
      ]
     },
     "execution_count": 75,
     "metadata": {},
     "output_type": "execute_result"
    }
   ],
   "source": [
    "DataBase = pd.read_csv('./DB.csv')\n",
    "DataDic = DataBase.to_dict(orient='records')\n",
    "Info = DataDic[0]\n",
    "Info"
   ]
  },
  {
   "cell_type": "code",
   "execution_count": null,
   "metadata": {},
   "outputs": [],
   "source": []
  }
 ],
 "metadata": {
  "kernelspec": {
   "display_name": "doggo",
   "language": "python",
   "name": "python3"
  },
  "language_info": {
   "codemirror_mode": {
    "name": "ipython",
    "version": 3
   },
   "file_extension": ".py",
   "mimetype": "text/x-python",
   "name": "python",
   "nbconvert_exporter": "python",
   "pygments_lexer": "ipython3",
   "version": "3.7.10"
  },
  "orig_nbformat": 4
 },
 "nbformat": 4,
 "nbformat_minor": 2
}
