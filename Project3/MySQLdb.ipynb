{
 "cells": [
  {
   "cell_type": "code",
   "execution_count": 2,
   "metadata": {},
   "outputs": [
    {
     "name": "stdout",
     "output_type": "stream",
     "text": [
      "<class 'MySQLdb.connections.Connection'>\n",
      "<class 'MySQLdb.cursors.Cursor'>\n"
     ]
    }
   ],
   "source": [
    "import MySQLdb\n",
    "conn = MySQLdb.connect(\n",
    "    user = 'crawl_usr',\n",
    "    passwd = 'test001',\n",
    "    host = 'localhost',\n",
    "    db = 'crawl_data'\n",
    ")\n",
    "print(type(conn))\n",
    "\n",
    "cursor = conn.cursor()\n",
    "print(type(cursor))\n",
    "\n",
    "cursor.execute(\"CREATE TABLE books (title text, url text)\")\n",
    "conn.commit()"
   ]
  },
  {
   "cell_type": "code",
   "execution_count": 3,
   "metadata": {},
   "outputs": [],
   "source": [
    "bookname = '처음 시작하는 파이썬'\n",
    "url = 'www.wikibook.co.kr'\n",
    "cursor.execute(f'INSERT INTO books VALUES(\\\"{bookname}\\\", \\\"{url}\\\")')\n",
    "conn.commit()"
   ]
  },
  {
   "cell_type": "markdown",
   "metadata": {},
   "source": [
    "#### 실행할때마다 다른 값이 나오지 않게 테이블을 제거하고 다시 생성하는 코드"
   ]
  },
  {
   "cell_type": "code",
   "execution_count": 4,
   "metadata": {},
   "outputs": [],
   "source": [
    "import MySQLdb\n",
    "conn = MySQLdb.connect(\n",
    "    user = 'crawl_usr',\n",
    "    passwd = 'test001',\n",
    "    host = 'localhost',\n",
    "    db = 'crawl_data'\n",
    ")\n",
    "# 커서 생성하기\n",
    "cursor = conn.cursor()\n",
    "\n",
    "# 실행할 때마다 다른 값이 나오지 않게 테이블을 제거해두기\n",
    "cursor.execute('DROP TABLE IF EXISTS books')\n",
    "# 테이블을 생성하기\n",
    "cursor.execute(\"CREATE TABLE books (title text, url text)\")\n",
    "\n",
    "# 데이터 저장하기\n",
    "bookname = '처음 시작하는 파이썬'\n",
    "url = 'www.wikibook.co.kr'\n",
    "cursor.execute(f'INSERT INTO books VALUES(\\\"{bookname}\\\", \\\"{url}\\\")')\n",
    "\n",
    "# 커밋하기\n",
    "conn.commit()\n",
    "\n",
    "# 연결 종료 \n",
    "conn.close()"
   ]
  },
  {
   "cell_type": "markdown",
   "metadata": {},
   "source": [
    "### 크롤링 DB에 넣기"
   ]
  },
  {
   "cell_type": "code",
   "execution_count": 5,
   "metadata": {},
   "outputs": [],
   "source": [
    "import MySQLdb\n",
    "import requests\n",
    "from bs4 import BeautifulSoup"
   ]
  },
  {
   "cell_type": "code",
   "execution_count": 13,
   "metadata": {},
   "outputs": [],
   "source": [
    "if __name__ == '__main__':\n",
    "    RANK = 100 \n",
    "    header = {\n",
    "        'User-Agent' : 'Mozilla/5.0 (Windows NT 6.3; Trident/7.0; rv:11.0) like Gecko'}\n",
    "    req = requests.get('http://www.melon.com/chart/week/index.htm', headers = header)\n",
    "    html = req.text\n",
    "    parse = BeautifulSoup(html, 'html.parser')\n",
    "    \n",
    "    titles = parse.find_all('div', {'class' : 'ellipsis rank01'})\n",
    "    singers = parse.find_all('div', {'class' : 'ellipsis rank02'})\n",
    "    \n",
    "    title = []\n",
    "    singer = []\n",
    "    \n",
    "    for t in titles:\n",
    "        title.append(t.find('a').text)\n",
    "    \n",
    "    for s in singers:\n",
    "        singer.append(s.find('span', {'class' : 'checkEllipsis'}).text)\n",
    "    items = [item for item in zip(title, singer)]\n",
    "\n",
    "conn = MySQLdb.connect(\n",
    "    user = 'crawl_usr',\n",
    "    passwd = 'test001',\n",
    "    host = 'localhost',\n",
    "    db = 'crawl_data')\n",
    "\n",
    "cursor = conn.cursor()\n",
    "cursor.execute('DROP TABLE IF EXISTS melon')\n",
    "cursor.execute(\"CREATE TABLE melon (`rank` int, title text, singer text)\")\n",
    "i = 1\n",
    "\n",
    "for item in items:\n",
    "    cursor.execute(\n",
    "        f'INSERT INTO melon VALUES({i},\\\"{item[0]}\\\", \\\"{item[1]}\\\")')\n",
    "    i += 1\n",
    "\n",
    "conn.commit()\n",
    "conn.close()"
   ]
  },
  {
   "cell_type": "code",
   "execution_count": null,
   "metadata": {},
   "outputs": [],
   "source": []
  }
 ],
 "metadata": {
  "kernelspec": {
   "display_name": "base",
   "language": "python",
   "name": "python3"
  },
  "language_info": {
   "codemirror_mode": {
    "name": "ipython",
    "version": 3
   },
   "file_extension": ".py",
   "mimetype": "text/x-python",
   "name": "python",
   "nbconvert_exporter": "python",
   "pygments_lexer": "ipython3",
   "version": "3.10.9"
  },
  "orig_nbformat": 4
 },
 "nbformat": 4,
 "nbformat_minor": 2
}
