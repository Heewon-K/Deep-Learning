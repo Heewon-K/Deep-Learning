{
 "cells": [
  {
   "cell_type": "markdown",
   "metadata": {},
   "source": [
    "## pre-req\n",
    "DROP DATABASE IF EXISTS crawl_data;  # delte (crawl_data) database if exists /**/<br>\n",
    "CREATE DATABASE crawl_data [DEFAULT CHARACTER SET utf8]; # create database (db name : crawl_data, as an example) <br>\n",
    "CREATE USER crawl_usr IDENTIFIED BY 'test001'; # create user with password (example user name : crawl_usr, password : test001)<br>\n",
    "GRANT ALL ON crawl_data.* TO crawl_usr; # grant full access to the user\n",
    "\n",
    "* 참고\n",
    "https://hyun-am-coding.tistory.com/entry/%ED%81%AC%EB%A1%A4%EB%A7%81%ED%95%9C-%EB%8D%B0%EC%9D%B4%ED%84%B0-DB%EC%97%90-%EC%A0%80%EC%9E%A5%ED%95%98%EA%B8%B0"
   ]
  },
  {
   "cell_type": "markdown",
   "metadata": {},
   "source": [
    "1. cmd 열기\n",
    "2. env를 base가 아닌 새로 만들어서 한다면 사용할 환경을 지정\n",
    "3. pip install python-dotenv\n",
    "4. cd 프로젝트하는_파일이_있는_폴더_위치 (예: cd C:/users/project)\n",
    "5. echo. > .env\n",
    "cmd는 끝!\n",
    "5. 프로젝트를 하는 파일이 있는 폴더에 .env 파일이 있을거예요\n",
    "6. 그 파일 VS Code나 메모장으로 열어서 데이터 베이스에 접속하는데 필요한 정보 입력\n",
    "    - 예, wanted_envs={'user':'crawl_usr', 'passwd':'test001', 'host':'localhost', 'db' : 'crawl_data'}\n",
    "7. 그후에 다음 ipynb파일에 나와 있는 코드를 돌리면 접속 정보를 외부에 노출하지 않고 이용하여 정보를 받아올 수 있습니다!"
   ]
  },
  {
   "cell_type": "code",
   "execution_count": 1,
   "metadata": {},
   "outputs": [],
   "source": [
    "import MySQLdb"
   ]
  },
  {
   "cell_type": "code",
   "execution_count": 7,
   "metadata": {},
   "outputs": [
    {
     "data": {
      "text/plain": [
       "{'user': 'crawl_usr',\n",
       " 'passwd': 'test001',\n",
       " 'host': 'localhost',\n",
       " 'db': 'crawl_data'}"
      ]
     },
     "execution_count": 7,
     "metadata": {},
     "output_type": "execute_result"
    }
   ],
   "source": [
    "from dotenv import load_dotenv\n",
    "load_dotenv('.env')\n",
    "import os\n",
    "from ast import literal_eval\n",
    "\n",
    "DB_keys = literal_eval(os.getenv('wanted_envs'))\n",
    "DB_keys"
   ]
  },
  {
   "cell_type": "code",
   "execution_count": 8,
   "metadata": {},
   "outputs": [
    {
     "name": "stdout",
     "output_type": "stream",
     "text": [
      "<class 'MySQLdb.connections.Connection'>\n"
     ]
    }
   ],
   "source": [
    "# 방법 1 -  접속 정보를 dict로 저장했다면\n",
    "conn = MySQLdb.connect(\n",
    "    user = DB_keys['user'],\n",
    "    passwd = DB_keys['passwd'],\n",
    "    host = DB_keys['host'],\n",
    "    db = DB_keys['db']\n",
    ")\n",
    "print(type(conn))"
   ]
  },
  {
   "cell_type": "code",
   "execution_count": null,
   "metadata": {},
   "outputs": [],
   "source": [
    "# 방법 2 - 접속 정보를 env에 사용하지 않고\n",
    "conn = MySQLdb.connect(\n",
    "    user = 'crawl_usr',\n",
    "    passwd = 'test001',\n",
    "    host = 'localhost',\n",
    "    db = 'crawl_data'\n",
    ")\n",
    "print(type(conn))\n",
    "\n",
    "cursor = conn.cursor()\n",
    "print(type(cursor))\n",
    "\n",
    "cursor.execute(\"CREATE TABLE books (title text, url text)\")\n",
    "conn.commit()"
   ]
  },
  {
   "cell_type": "code",
   "execution_count": 3,
   "metadata": {},
   "outputs": [],
   "source": [
    "bookname = '처음 시작하는 파이썬'\n",
    "url = 'www.wikibook.co.kr'\n",
    "cursor.execute(f'INSERT INTO books VALUES(\\\"{bookname}\\\", \\\"{url}\\\")')\n",
    "conn.commit()"
   ]
  },
  {
   "cell_type": "markdown",
   "metadata": {},
   "source": [
    "#### 실행할때마다 다른 값이 나오지 않게 테이블을 제거하고 다시 생성하는 코드"
   ]
  },
  {
   "cell_type": "code",
   "execution_count": 4,
   "metadata": {},
   "outputs": [],
   "source": [
    "import MySQLdb\n",
    "conn = MySQLdb.connect(\n",
    "    user = 'crawl_usr',\n",
    "    passwd = 'test001',\n",
    "    host = 'localhost',\n",
    "    db = 'crawl_data'\n",
    ")\n",
    "# 커서 생성하기\n",
    "cursor = conn.cursor()\n",
    "\n",
    "# 실행할 때마다 다른 값이 나오지 않게 테이블을 제거해두기\n",
    "cursor.execute('DROP TABLE IF EXISTS books')\n",
    "# 테이블을 생성하기\n",
    "cursor.execute(\"CREATE TABLE books (title text, url text)\")\n",
    "\n",
    "# 데이터 저장하기\n",
    "bookname = '처음 시작하는 파이썬'\n",
    "url = 'www.wikibook.co.kr'\n",
    "cursor.execute(f'INSERT INTO books VALUES(\\\"{bookname}\\\", \\\"{url}\\\")')\n",
    "\n",
    "# 커밋하기\n",
    "conn.commit()\n",
    "\n",
    "# 연결 종료 \n",
    "conn.close()"
   ]
  },
  {
   "cell_type": "markdown",
   "metadata": {},
   "source": [
    "### 크롤링 DB에 넣기 - 멜론에서 상위 100개 노래"
   ]
  },
  {
   "cell_type": "code",
   "execution_count": 5,
   "metadata": {},
   "outputs": [],
   "source": [
    "import MySQLdb\n",
    "import requests\n",
    "from bs4 import BeautifulSoup"
   ]
  },
  {
   "cell_type": "code",
   "execution_count": 13,
   "metadata": {},
   "outputs": [],
   "source": [
    "if __name__ == '__main__':\n",
    "    RANK = 100 \n",
    "    header = {\n",
    "        'User-Agent' : 'Mozilla/5.0 (Windows NT 6.3; Trident/7.0; rv:11.0) like Gecko'}\n",
    "    req = requests.get('http://www.melon.com/chart/week/index.htm', headers = header)\n",
    "    html = req.text\n",
    "    parse = BeautifulSoup(html, 'html.parser')\n",
    "    \n",
    "    titles = parse.find_all('div', {'class' : 'ellipsis rank01'})\n",
    "    singers = parse.find_all('div', {'class' : 'ellipsis rank02'})\n",
    "    \n",
    "    title = []\n",
    "    singer = []\n",
    "    \n",
    "    for t in titles:\n",
    "        title.append(t.find('a').text)\n",
    "    \n",
    "    for s in singers:\n",
    "        singer.append(s.find('span', {'class' : 'checkEllipsis'}).text)\n",
    "    items = [item for item in zip(title, singer)]\n",
    "\n",
    "conn = MySQLdb.connect(\n",
    "    user = 'crawl_usr',\n",
    "    passwd = 'test001',\n",
    "    host = 'localhost',\n",
    "    db = 'crawl_data')\n",
    "\n",
    "cursor = conn.cursor()\n",
    "cursor.execute('DROP TABLE IF EXISTS melon')\n",
    "cursor.execute(\"CREATE TABLE melon (`rank` int, title text, singer text)\")\n",
    "i = 1\n",
    "\n",
    "for item in items:\n",
    "    cursor.execute(\n",
    "        f'INSERT INTO melon VALUES({i},\\\"{item[0]}\\\", \\\"{item[1]}\\\")')\n",
    "    i += 1\n",
    "\n",
    "conn.commit()\n",
    "conn.close()"
   ]
  },
  {
   "cell_type": "markdown",
   "metadata": {},
   "source": [
    "***"
   ]
  },
  {
   "cell_type": "markdown",
   "metadata": {},
   "source": [
    "### Reading data from a MySQL table usig python"
   ]
  },
  {
   "cell_type": "code",
   "execution_count": 9,
   "metadata": {},
   "outputs": [
    {
     "data": {
      "text/plain": [
       "100"
      ]
     },
     "execution_count": 9,
     "metadata": {},
     "output_type": "execute_result"
    }
   ],
   "source": [
    "# establishing the connection\n",
    "conn = MySQLdb.connect(\n",
    "    user = 'crawl_usr',\n",
    "    passwd = 'test001',\n",
    "    host = 'localhost',\n",
    "    db = 'crawl_data')\n",
    "\n",
    "# Creating a cursor object\n",
    "cursor = conn.cursor()\n",
    "\n",
    "# Retrieving data \n",
    "sql = '''SELECT * from melon''' \n",
    "\n",
    "# execute the query\n",
    "cursor.execute(sql)\n",
    "\n",
    "# Fetching 1st row from the table\n",
    "result = cursor.fetchone()\n",
    "print(result)\n",
    "\n",
    "# Fetching all\n",
    "results = cursor.fetchall()\n",
    "print(results)\n",
    "\n",
    "# closing the connection\n",
    "conn.close()"
   ]
  },
  {
   "cell_type": "code",
   "execution_count": null,
   "metadata": {},
   "outputs": [],
   "source": []
  }
 ],
 "metadata": {
  "kernelspec": {
   "display_name": "base",
   "language": "python",
   "name": "python3"
  },
  "language_info": {
   "codemirror_mode": {
    "name": "ipython",
    "version": 3
   },
   "file_extension": ".py",
   "mimetype": "text/x-python",
   "name": "python",
   "nbconvert_exporter": "python",
   "pygments_lexer": "ipython3",
   "version": "3.10.9"
  },
  "orig_nbformat": 4
 },
 "nbformat": 4,
 "nbformat_minor": 2
}
