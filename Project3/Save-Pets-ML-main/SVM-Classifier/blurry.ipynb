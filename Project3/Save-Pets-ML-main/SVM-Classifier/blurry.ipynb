{
 "cells": [
  {
   "cell_type": "code",
   "execution_count": 23,
   "metadata": {},
   "outputs": [
    {
     "name": "stdout",
     "output_type": "stream",
     "text": [
      "laplacian_var : 230.93209908076392\n",
      "./test_img/image1.jpg\n",
      "laplacian_var : 63.70838222063429\n",
      "laplacian_var : 960.770586662457\n",
      "./test_img/image3.jpg\n"
     ]
    }
   ],
   "source": [
    "import cv2\n",
    "\n",
    "def is_blurry(image, threshold=100):\n",
    "    # Convert the image to grayscale\n",
    "    gray = cv2.cvtColor(image, cv2.COLOR_BGR2GRAY)\n",
    "    \n",
    "    # Calculate the Laplacian variance as a sharpness metric\n",
    "    laplacian_var = cv2.Laplacian(gray, cv2.CV_64F).var()\n",
    "    print(\"laplacian_var :\", laplacian_var )\n",
    "    # Check if the image is blurry based on the threshold\n",
    "    return laplacian_var < threshold\n",
    "\n",
    "# Load images and filter out blurry ones\n",
    "image_paths = ['./test_img/image1.jpg', './test_img/image2.jpg', './test_img/image3.jpg']\n",
    "for image_path in image_paths:\n",
    "    image = cv2.imread(image_path)\n",
    "    #image = image.astype('uint8')\n",
    "    if not is_blurry(image):\n",
    "        print(image_path)\n",
    "        # Image is not blurry, process or save it as needed\n",
    "        # Otherwise, skip or discard the blurry image"
   ]
  },
  {
   "cell_type": "code",
   "execution_count": null,
   "metadata": {},
   "outputs": [],
   "source": []
  }
 ],
 "metadata": {
  "kernelspec": {
   "display_name": "doggo",
   "language": "python",
   "name": "python3"
  },
  "language_info": {
   "codemirror_mode": {
    "name": "ipython",
    "version": 3
   },
   "file_extension": ".py",
   "mimetype": "text/x-python",
   "name": "python",
   "nbconvert_exporter": "python",
   "pygments_lexer": "ipython3",
   "version": "3.7.10"
  },
  "orig_nbformat": 4
 },
 "nbformat": 4,
 "nbformat_minor": 2
}
